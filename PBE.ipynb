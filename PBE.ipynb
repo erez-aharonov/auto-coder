{
 "cells": [
  {
   "cell_type": "code",
   "execution_count": 1,
   "metadata": {
    "collapsed": true
   },
   "outputs": [],
   "source": [
    "import itertools\n",
    "import pandas as pd\n",
    "import numpy as np\n",
    "from IPython.display import display"
   ]
  },
  {
   "cell_type": "markdown",
   "metadata": {},
   "source": [
    "# each input-output-program in single row"
   ]
  },
  {
   "cell_type": "code",
   "execution_count": 3,
   "metadata": {
    "collapsed": true
   },
   "outputs": [],
   "source": [
    "def apply_func(x, func):\n",
    "    d = {\"x\": x}\n",
    "    exec(func, d)\n",
    "    return d[\"x\"]\n",
    "\n",
    "def apply_func_on_group(group, func):\n",
    "    group_2 = group.copy()\n",
    "    group_2[\"input\"] = group[\"input\"].apply(apply_func, args=(func,))\n",
    "    group_2[\"program\"] += \"\\n\" + func\n",
    "    return group_2\n",
    "\n",
    "def apply_meta_func_on_group(group, meta_func):\n",
    "    func_list = meta_func(group)\n",
    "#     print(meta_func.__name__, len(func_list))\n",
    "    updated_group = pd.concat([apply_func_on_group(group, func) for func in func_list])\n",
    "    return updated_group\n",
    "\n",
    "def apply_meta_func(input_output_data_frame, meta_func):\n",
    "    updated_input_output_data_frame = input_output_data_frame.groupby(\"program\").apply(apply_meta_func_on_group, meta_func).reset_index(drop=True)\n",
    "    return updated_input_output_data_frame"
   ]
  },
  {
   "cell_type": "code",
   "execution_count": 4,
   "metadata": {
    "collapsed": true
   },
   "outputs": [],
   "source": [
    "def get_all_substrings(input_string):\n",
    "    length = len(input_string)\n",
    "    return set([input_string[i:j+1] for i in range(length) for j in range(i,length)])"
   ]
  },
  {
   "cell_type": "code",
   "execution_count": 5,
   "metadata": {
    "collapsed": true
   },
   "outputs": [],
   "source": [
    "def get_intersection_of_list_of_sets(list_of_sets):\n",
    "    set_0 = list_of_sets[0]\n",
    "    for a_set in list_of_sets[1:]:\n",
    "        set_0 = set_0.intersection(a_set)\n",
    "    return set_0"
   ]
  },
  {
   "cell_type": "code",
   "execution_count": 6,
   "metadata": {
    "collapsed": true
   },
   "outputs": [],
   "source": [
    "def split_string(group):\n",
    "    input_string_list = group[\"input\"].values.tolist()\n",
    "    list_of_set_of_separators = [get_all_substrings(string) for string in input_string_list]\n",
    "    set_of_separators = get_intersection_of_list_of_sets(list_of_set_of_separators)\n",
    "    candidate_functions_list = list(set([\"x = x.split(\\\"{}\\\")\".format(sep) for sep in set_of_separators]))\n",
    "    return candidate_functions_list"
   ]
  },
  {
   "cell_type": "code",
   "execution_count": 69,
   "metadata": {
    "collapsed": true
   },
   "outputs": [],
   "source": [
    "def get_select_combinations(group):\n",
    "    min_length = group[\"input\"].apply(len).min()\n",
    "    list_of_list = [list(itertools.combinations(range(min_length), k)) for k in range(1, min_length + 1)]\n",
    "    reverse_list_of_list = [list(itertools.combinations(np.linspace(-min_length, -1, min_length).astype(int), k)) for k in range(1, min_length + 1)]\n",
    "    select_list = list(itertools.chain.from_iterable(list_of_list + reverse_list_of_list))\n",
    "    func_str_list = []\n",
    "    for selected in select_list:\n",
    "        if len(selected) <= 3 and np.ptp(selected) < 3:\n",
    "            if len(selected) > -1:\n",
    "                func = \"x = [x[i] for i in {}]\".format(selected)\n",
    "            else:\n",
    "                func = \"x = x[{}]\".format(selected[0])\n",
    "            func_str_list.append(func)\n",
    "    return func_str_list"
   ]
  },
  {
   "cell_type": "code",
   "execution_count": 70,
   "metadata": {
    "collapsed": true
   },
   "outputs": [],
   "source": [
    "def get_permutations(group):\n",
    "    min_length = group[\"input\"].apply(len).min()\n",
    "    permutations_list = list(itertools.permutations(range(min_length)))\n",
    "    func_str_list = [\"x = [x[i] for i in {}]\".format(permutation) for permutation in permutations_list]\n",
    "    return func_str_list"
   ]
  },
  {
   "cell_type": "code",
   "execution_count": 71,
   "metadata": {
    "collapsed": true
   },
   "outputs": [],
   "source": [
    "def join_list_to_string(group):\n",
    "    input_string_list = group[\"output\"].values.tolist()\n",
    "    list_of_set_of_separators = [get_all_substrings(string) for string in input_string_list]\n",
    "    set_of_separators = get_intersection_of_list_of_sets(list_of_set_of_separators)\n",
    "    candidate_functions_list = [\"x = \\\"{}\\\".join(x)\".format(sep) for sep in list(set_of_separators) + [\"\"] if len(sep) <= 2]\n",
    "    return candidate_functions_list"
   ]
  },
  {
   "cell_type": "code",
   "execution_count": 72,
   "metadata": {
    "collapsed": true
   },
   "outputs": [],
   "source": [
    "def is_program_correct_on_all_examples(data_frame):\n",
    "    return (data_frame[\"input\"] == data_frame[\"output\"]).all()\n",
    "\n",
    "def get_correct_programs(data_frame):\n",
    "    correctness = pd.DataFrame(data_frame.groupby(\"program\").apply(get_correct_on_all_examples)).reset_index()\n",
    "    correct_programs = correctness[correctness[0]][\"program\"]\n",
    "    return correct_programs\n",
    "\n",
    "def code(input_output_data_frame, is_log=False):\n",
    "    input_output_data_frame[\"program\"] = \"\"\n",
    "    if is_log:\n",
    "        meta_func_list = [split_string, get_select_combinations, join_list_to_string]\n",
    "    else:\n",
    "        meta_func_list = [split_string, get_select_combinations, get_permutations, join_list_to_string]\n",
    "    for meta_func in meta_func_list:\n",
    "        input_output_data_frame = apply_meta_func(input_output_data_frame, meta_func)\n",
    "        \n",
    "    correct_programs = get_correct_programs(input_output_data_frame)\n",
    "    return correct_programs"
   ]
  },
  {
   "cell_type": "code",
   "execution_count": 73,
   "metadata": {},
   "outputs": [
    {
     "data": {
      "text/html": [
       "<div>\n",
       "<style>\n",
       "    .dataframe thead tr:only-child th {\n",
       "        text-align: right;\n",
       "    }\n",
       "\n",
       "    .dataframe thead th {\n",
       "        text-align: left;\n",
       "    }\n",
       "\n",
       "    .dataframe tbody tr th {\n",
       "        vertical-align: top;\n",
       "    }\n",
       "</style>\n",
       "<table border=\"1\" class=\"dataframe\">\n",
       "  <thead>\n",
       "    <tr style=\"text-align: right;\">\n",
       "      <th></th>\n",
       "      <th>input</th>\n",
       "      <th>output</th>\n",
       "    </tr>\n",
       "  </thead>\n",
       "  <tbody>\n",
       "    <tr>\n",
       "      <th>0</th>\n",
       "      <td>aa bb cc</td>\n",
       "      <td>bbmmccmmaa</td>\n",
       "    </tr>\n",
       "    <tr>\n",
       "      <th>1</th>\n",
       "      <td>ll dd ff</td>\n",
       "      <td>ddmmffmmll</td>\n",
       "    </tr>\n",
       "  </tbody>\n",
       "</table>\n",
       "</div>"
      ],
      "text/plain": [
       "      input      output\n",
       "0  aa bb cc  bbmmccmmaa\n",
       "1  ll dd ff  ddmmffmmll"
      ]
     },
     "execution_count": 73,
     "metadata": {},
     "output_type": "execute_result"
    }
   ],
   "source": [
    "input_output_examples_list = [(\"aa bb cc\", \"bbmmccmmaa\"), (\"ll dd ff\", \"ddmmffmmll\")]\n",
    "input_output_data_frame = pd.DataFrame(input_output_examples_list, columns=[\"input\", \"output\"])\n",
    "input_output_data_frame"
   ]
  },
  {
   "cell_type": "code",
   "execution_count": 74,
   "metadata": {},
   "outputs": [
    {
     "name": "stdout",
     "output_type": "stream",
     "text": [
      "\n",
      "x = x.split(\" \")\n",
      "x = [x[i] for i in (-3, -2, -1)]\n",
      "x = [x[i] for i in (1, 2, 0)]\n",
      "x = \"mm\".join(x)\n",
      "\n",
      "x = x.split(\" \")\n",
      "x = [x[i] for i in (0, 1, 2)]\n",
      "x = [x[i] for i in (1, 2, 0)]\n",
      "x = \"mm\".join(x)\n"
     ]
    },
    {
     "data": {
      "text/plain": [
       "35    \\nx = x.split(\" \")\\nx = [x[i] for i in (-3, -2...\n",
       "62    \\nx = x.split(\" \")\\nx = [x[i] for i in (0, 1, ...\n",
       "Name: program, dtype: object"
      ]
     },
     "execution_count": 74,
     "metadata": {},
     "output_type": "execute_result"
    }
   ],
   "source": [
    "correct_series = code(input_output_data_frame)\n",
    "correct_data_frame.apply(print)\n",
    "correct_series"
   ]
  },
  {
   "cell_type": "markdown",
   "metadata": {},
   "source": [
    "# logs"
   ]
  },
  {
   "cell_type": "code",
   "execution_count": 139,
   "metadata": {
    "collapsed": true
   },
   "outputs": [],
   "source": [
    "def get_max_length_common_string(string_1, string_2):\n",
    "    union_list = [substring for substring in get_all_substrings(string_1) if substring in string_2]\n",
    "    common_string = union_list[pd.Series(union_list).apply(len).argmax()]\n",
    "    return common_string\n",
    "\n",
    "def get_max_length_common_string_of_list(string_list):\n",
    "    common_string = string_list[0]\n",
    "    for string_2 in string_list[1:]:\n",
    "        common_string = get_max_length_common_string(common_string, string_2)\n",
    "    return common_string\n",
    "\n",
    "def get_function(input_output_data_frame):\n",
    "    prefix_list = []\n",
    "    suffix_list = []\n",
    "    for index, row in input_output_data_frame.iterrows():\n",
    "        sub_string = row[\"output\"]\n",
    "        line = row[\"input\"]\n",
    "        start_index = line.find(sub_string)\n",
    "        end_index = start_index + len(sub_string)\n",
    "        prefix = line[:start_index][-15:]\n",
    "        suffix = line[end_index:][:15]\n",
    "        prefix_list.append(prefix)\n",
    "        suffix_list.append(suffix)\n",
    "    common_prefix = get_max_length_common_string_of_list(prefix_list)\n",
    "    common_suffix = get_max_length_common_string_of_list(suffix_list)\n",
    "    func_str = \"x = x.split(\\\"{}\\\")[1].split(\\\"{}\\\")[0]\".format(common_prefix, common_suffix)\n",
    "    return func_str"
   ]
  },
  {
   "cell_type": "code",
   "execution_count": 140,
   "metadata": {
    "collapsed": true
   },
   "outputs": [],
   "source": [
    "def get_info_from_log(log_lines, output_strings_list):\n",
    "    log_lines = [line.replace(\"\\n\", \"\") for line in log_lines]\n",
    "    interesting_lines = []\n",
    "    for line in log_lines:\n",
    "        for output_string in output_strings_list:\n",
    "            if output_string in line:        \n",
    "                interesting_lines.append((line, output_string))\n",
    "                \n",
    "    common_string = get_max_length_common_string(interesting_lines[0][0], interesting_lines[1][0])\n",
    "    \n",
    "    common_string_no_numeric_trail = common_string[:(-pd.Series(list(common_string)).str.isnumeric().values[::-1].argmin())]\n",
    "    \n",
    "    input_output_data_frame = pd.DataFrame(interesting_lines, columns=[\"input\", \"output\"])\n",
    "\n",
    "    func_str = get_function(input_output_data_frame)\n",
    "    \n",
    "#     inner_func = \"\\n\".join([\"\\t\" + line for line in possible_code_series.iloc[0].split(\"\\n\") if line != \"\"] )\n",
    "    \n",
    "    output_list = []\n",
    "    for line in log_lines:\n",
    "        if common_string_no_numeric_trail in line:\n",
    "            d = {\"x\": line}\n",
    "            exec(func_str, d)            \n",
    "            output_list.append(d[\"x\"])\n",
    "            \n",
    "    func = \"\"\"\n",
    "output_list = []\n",
    "for line in log_lines:\n",
    "    if \\\"{}\\\" in line:\n",
    "        x = line\n",
    "        {}\n",
    "        output_list.append(x)\n",
    "\"\"\".format(common_string_no_numeric_trail, func_str)\n",
    "    \n",
    "    return output_list, func"
   ]
  },
  {
   "cell_type": "code",
   "execution_count": 141,
   "metadata": {},
   "outputs": [
    {
     "data": {
      "text/plain": [
       "['Aug  1 18:27:45 knight sshd[20325]: Illegal user test from 218.49.183.17\\n',\n",
       " 'Aug  1 18:27:46 knight sshd[20325]: Failed password for illegal user test from 218.49.183.17 port 48849 ssh2\\n',\n",
       " 'Aug  1 18:27:46 knight sshd[20325]: error: Could not get shadow information for NOUSER\\n',\n",
       " 'Aug  1 18:27:48 knight sshd[20327]: Illegal user guest from 218.49.183.17\\n',\n",
       " 'Aug  1 18:27:49 knight sshd[20327]: Failed password for illegal user guest from 218.49.183.17 port 49090 ssh2\\n',\n",
       " 'Aug  1 18:27:49 knight sshd[20327]: error: Could not get shadow information for NOUSER\\n',\n",
       " 'Aug  1 18:27:52 knight sshd[20329]: Failed password for admin from 218.49.183.17 port 49266 ssh2\\n',\n",
       " 'Aug  1 18:27:56 knight sshd[20331]: Failed password for admin from 218.49.183.17 port 49468 ssh2\\n',\n",
       " 'Aug  1 18:27:58 knight sshd[20334]: Illegal user user from 218.49.183.17\\n',\n",
       " 'Aug  1 18:27:59 knight sshd[20334]: Failed password for illegal user user from 218.49.183.17 port 49680 ssh2\\n',\n",
       " 'Aug  1 18:27:59 knight sshd[20334]: error: Could not get shadow information for NOUSER\\n',\n",
       " 'Aug  1 18:28:02 knight sshd[20336]: Failed password for root from 218.49.183.17 port 49869 ssh2\\n',\n",
       " 'Aug  1 18:28:05 knight sshd[20347]: Failed password for root from 218.49.183.17 port 50063 ssh2\\n',\n",
       " 'Aug  1 18:28:12 knight sshd[20349]: Failed password for root from 218.49.183.17 port 50245 ssh2\\n',\n",
       " 'Aug  1 18:28:14 knight sshd[20352]: Illegal user test from 218.49.183.17\\n',\n",
       " 'Aug  1 18:28:19 knight sshd[20352]: Failed password for illegal user test from 218.49.183.17 port 50671 ssh2\\n',\n",
       " 'Aug  1 18:28:19 knight sshd[20352]: error: Could not get shadow information for NOUSER\\n',\n",
       " 'Aug  1 18:29:55 knight sshd[20402]: Illegal user test from 218.49.183.17\\n',\n",
       " 'Aug  1 18:29:56 knight sshd[20402]: Failed password for illegal user test from 218.49.183.17 port 52244 ssh2\\n',\n",
       " 'Aug  1 18:29:56 knight sshd[20402]: error: Could not get shadow information for NOUSER\\n',\n",
       " 'Aug  1 18:29:58 knight sshd[20404]: Illegal user guest from 218.49.183.17\\n',\n",
       " 'Aug  1 18:30:02 knight sshd[20406]: Illegal user test from 218.49.183.17\\n',\n",
       " 'Aug  1 18:30:03 knight sshd[20404]: Failed password for illegal user guest from 218.49.183.17 port 52416 ssh2\\n',\n",
       " 'Aug  1 18:30:03 knight sshd[20404]: error: Could not get shadow information for NOUSER\\n',\n",
       " 'Aug  1 18:30:03 knight sshd[20406]: Failed password for illegal user test from 218.49.183.17 port 52558 ssh2\\n',\n",
       " 'Aug  1 18:30:03 knight sshd[20406]: error: Could not get shadow information for NOUSER\\n',\n",
       " 'Aug  1 18:30:05 knight sshd[20439]: Failed password for illegal user guest from 218.49.183.17 port 52818 ssh2\\n',\n",
       " 'Aug  1 18:30:05 knight sshd[20439]: Illegal user guest from 218.49.183.17\\n',\n",
       " 'Aug  1 18:30:05 knight sshd[20439]: error: Could not get shadow information for NOUSER\\n',\n",
       " 'Aug  1 18:30:06 knight sshd[20441]: Failed password for admin from 218.49.183.17 port 52851 ssh2\\n',\n",
       " 'Aug  1 18:30:08 knight sshd[20443]: Failed password for admin from 218.49.183.17 port 53014 ssh2\\n',\n",
       " 'Aug  1 18:30:09 knight sshd[20445]: Failed password for admin from 218.49.183.17 port 53040 ssh2\\n',\n",
       " 'Aug  1 18:30:11 knight sshd[20447]: Failed password for admin from 218.49.183.17 port 53192 ssh2\\n',\n",
       " 'Aug  1 18:30:11 knight sshd[20449]: Illegal user user from 218.49.183.17\\n',\n",
       " 'Aug  1 18:30:12 knight sshd[20449]: Failed password for illegal user user from 218.49.183.17 port 53230 ssh2\\n',\n",
       " 'Aug  1 18:30:12 knight sshd[20449]: error: Could not get shadow information for NOUSER\\n',\n",
       " 'Aug  1 18:30:13 knight sshd[20451]: Illegal user user from 218.49.183.17\\n',\n",
       " 'Aug  1 18:30:14 knight sshd[20451]: Failed password for illegal user user from 218.49.183.17 port 53404 ssh2\\n',\n",
       " 'Aug  1 18:30:14 knight sshd[20451]: error: Could not get shadow information for NOUSER\\n',\n",
       " 'Aug  1 18:30:14 knight sshd[20453]: Failed password for root from 218.49.183.17 port 53425 ssh2\\n',\n",
       " 'Aug  1 18:30:21 knight sshd[20455]: Failed password for root from 218.49.183.17 port 53571 ssh2\\n',\n",
       " 'Aug  1 18:30:22 knight sshd[20457]: Failed password for root from 218.49.183.17 port 53615 ssh2\\n',\n",
       " 'Aug  1 18:30:24 knight sshd[20476]: Failed password for root from 218.49.183.17 port 54033 ssh2\\n',\n",
       " 'Aug  1 18:30:24 knight sshd[20484]: Failed password for root from 218.49.183.17 port 54078 ssh2\\n',\n",
       " 'Aug  1 18:30:26 knight sshd[20488]: Illegal user test from 218.49.183.17\\n',\n",
       " 'Aug  1 18:30:27 knight sshd[20486]: Failed password for root from 218.49.183.17 port 54243 ssh2\\n',\n",
       " 'Aug  1 18:30:27 knight sshd[20488]: Failed password for illegal user test from 218.49.183.17 port 54285 ssh2\\n',\n",
       " 'Aug  1 18:30:27 knight sshd[20488]: error: Could not get shadow information for NOUSER\\n',\n",
       " 'Aug  1 18:30:29 knight sshd[20490]: Illegal user test from 218.49.183.17\\n',\n",
       " 'Aug  1 18:30:34 knight sshd[20490]: Failed password for illegal user test from 218.49.183.17 port 54423 ssh2\\n',\n",
       " 'Aug  1 18:30:34 knight sshd[20490]: error: Could not get shadow information for NOUSER\\n',\n",
       " 'Aug  1 18:35:53 knight sshd[20658]: Illegal user test from 218.49.183.17\\n',\n",
       " 'Aug  1 18:35:54 knight sshd[20658]: Failed password for illegal user test from 218.49.183.17 port 39604 ssh2\\n',\n",
       " 'Aug  1 18:35:54 knight sshd[20658]: error: Could not get shadow information for NOUSER\\n',\n",
       " 'Aug  1 18:35:56 knight sshd[20660]: Illegal user guest from 218.49.183.17\\n',\n",
       " 'Aug  1 18:35:57 knight sshd[20660]: Failed password for illegal user guest from 218.49.183.17 port 39811 ssh2\\n',\n",
       " 'Aug  1 18:35:57 knight sshd[20660]: error: Could not get shadow information for NOUSER\\n',\n",
       " 'Aug  1 18:36:00 knight sshd[20664]: Failed password for admin from 218.49.183.17 port 40009 ssh2\\n',\n",
       " 'Aug  1 18:36:04 knight sshd[20666]: Failed password for admin from 218.49.183.17 port 40217 ssh2\\n',\n",
       " 'Aug  1 18:36:06 knight sshd[20675]: Illegal user user from 218.49.183.17\\n',\n",
       " 'Aug  1 18:36:11 knight sshd[20675]: Failed password for illegal user user from 218.49.183.17 port 40470 ssh2\\n',\n",
       " 'Aug  1 18:36:11 knight sshd[20675]: error: Could not get shadow information for NOUSER\\n',\n",
       " 'Aug  1 18:36:14 knight sshd[20677]: Failed password for root from 218.49.183.17 port 40973 ssh2\\n',\n",
       " 'Aug  1 18:36:21 knight sshd[20679]: Failed password for root from 218.49.183.17 port 41159 ssh2\\n',\n",
       " 'Aug  1 18:36:24 knight sshd[20681]: Failed password for root from 218.49.183.17 port 41541 ssh2\\n',\n",
       " 'Aug  1 18:36:27 knight sshd[20683]: Illegal user test from 218.49.183.17\\n',\n",
       " 'Aug  1 18:36:28 knight sshd[20683]: Failed password for illegal user test from 218.49.183.17 port 41630 ssh\\n',\n",
       " 'Aug  1 18:36:28 knight sshd[20683]: error: Could not get shadow information for NOUSER']"
      ]
     },
     "execution_count": 141,
     "metadata": {},
     "output_type": "execute_result"
    }
   ],
   "source": [
    "file_path = r\".\\log_example.txt\"\n",
    "log_lines = open(file_path, \"r\").readlines()\n",
    "log_lines"
   ]
  },
  {
   "cell_type": "code",
   "execution_count": 147,
   "metadata": {},
   "outputs": [
    {
     "data": {
      "text/plain": [
       "['port 48849',\n",
       " 'port 49090',\n",
       " 'port 49266',\n",
       " 'port 49468',\n",
       " 'port 49680',\n",
       " 'port 49869',\n",
       " 'port 50063',\n",
       " 'port 50245',\n",
       " 'port 50671',\n",
       " 'port 52244',\n",
       " 'port 52416',\n",
       " 'port 52558',\n",
       " 'port 52818',\n",
       " 'port 52851',\n",
       " 'port 53014',\n",
       " 'port 53040',\n",
       " 'port 53192',\n",
       " 'port 53230',\n",
       " 'port 53404',\n",
       " 'port 53425',\n",
       " 'port 53571',\n",
       " 'port 53615',\n",
       " 'port 54033',\n",
       " 'port 54078',\n",
       " 'port 54243',\n",
       " 'port 54285',\n",
       " 'port 54423',\n",
       " 'port 39604',\n",
       " 'port 39811',\n",
       " 'port 40009',\n",
       " 'port 40217',\n",
       " 'port 40470',\n",
       " 'port 40973',\n",
       " 'port 41159',\n",
       " 'port 41541',\n",
       " 'port 41630 ssh']"
      ]
     },
     "metadata": {},
     "output_type": "display_data"
    },
    {
     "name": "stdout",
     "output_type": "stream",
     "text": [
      "\n",
      "output_list = []\n",
      "for line in log_lines:\n",
      "    if \" from 218.49.183.17 port \" in line:\n",
      "        x = line\n",
      "        x = x.split(\" 218.49.183.17 \")[1].split(\" ssh2\")[0]\n",
      "        output_list.append(x)\n",
      "\n"
     ]
    }
   ],
   "source": [
    "output_strings_list = [\"port 40009\", \"port 48849\"]\n",
    "\n",
    "output_list, func_str = get_info_from_log(log_lines, output_strings_list)\n",
    "\n",
    "display(output_list)\n",
    "print(func_str)"
   ]
  },
  {
   "cell_type": "code",
   "execution_count": 150,
   "metadata": {
    "collapsed": true
   },
   "outputs": [],
   "source": [
    "def apply_func_on_log_lines(log_lines, func_str):\n",
    "    log_lines = [line.replace(\"\\n\", \"\") for line in log_lines]\n",
    "    d = {\"log_lines\": log_lines}\n",
    "    exec(func_str, d)\n",
    "    return d[\"output_list\"]"
   ]
  },
  {
   "cell_type": "code",
   "execution_count": 151,
   "metadata": {},
   "outputs": [
    {
     "data": {
      "text/plain": [
       "['port 48849',\n",
       " 'port 49090',\n",
       " 'port 49266',\n",
       " 'port 49468',\n",
       " 'port 49680',\n",
       " 'port 49869',\n",
       " 'port 50063',\n",
       " 'port 50245',\n",
       " 'port 50671',\n",
       " 'port 52244',\n",
       " 'port 52416',\n",
       " 'port 52558',\n",
       " 'port 52818',\n",
       " 'port 52851',\n",
       " 'port 53014',\n",
       " 'port 53040',\n",
       " 'port 53192',\n",
       " 'port 53230',\n",
       " 'port 53404',\n",
       " 'port 53425',\n",
       " 'port 53571',\n",
       " 'port 53615',\n",
       " 'port 54033',\n",
       " 'port 54078',\n",
       " 'port 54243',\n",
       " 'port 54285',\n",
       " 'port 54423',\n",
       " 'port 39604',\n",
       " 'port 39811',\n",
       " 'port 40009',\n",
       " 'port 40217',\n",
       " 'port 40470',\n",
       " 'port 40973',\n",
       " 'port 41159',\n",
       " 'port 41541',\n",
       " 'port 41630 ssh']"
      ]
     },
     "execution_count": 151,
     "metadata": {},
     "output_type": "execute_result"
    }
   ],
   "source": [
    "apply_func_on_log_lines(log_lines, func_str)"
   ]
  },
  {
   "cell_type": "code",
   "execution_count": 188,
   "metadata": {
    "collapsed": true
   },
   "outputs": [],
   "source": [
    "output_script = \\\n",
    "\"\"\"import sys\n",
    "\n",
    "input_file_path = sys.argv[1]\n",
    "output_file_path = sys.argv[2]\n",
    "\n",
    "log_lines = open(input_file_path, \"r\").readlines()\n",
    "{}\n",
    "open(output_file_path, \"w\").write(\"\\\\n\".join(output_list))\n",
    "print(\\\"done writing\\\", output_file_path)\"\"\".format(func_str)"
   ]
  },
  {
   "cell_type": "code",
   "execution_count": 189,
   "metadata": {},
   "outputs": [
    {
     "name": "stdout",
     "output_type": "stream",
     "text": [
      "import sys\n",
      "\n",
      "input_file_path = sys.argv[1]\n",
      "output_file_path = sys.argv[2]\n",
      "\n",
      "log_lines = open(input_file_path, \"r\").readlines()\n",
      "\n",
      "output_list = []\n",
      "for line in log_lines:\n",
      "    if \" from 218.49.183.17 port \" in line:\n",
      "        x = line\n",
      "        x = x.split(\" 218.49.183.17 \")[1].split(\" ssh2\")[0]\n",
      "        output_list.append(x)\n",
      "\n",
      "open(output_file_path, \"w\").write(\"\\n\".join(output_list))\n",
      "print(\"done writing\", output_file_path)\n"
     ]
    }
   ],
   "source": [
    "print(output_script)"
   ]
  },
  {
   "cell_type": "code",
   "execution_count": 190,
   "metadata": {
    "collapsed": true
   },
   "outputs": [],
   "source": [
    "output_script_file_path = r\".\\example_output_script.py\""
   ]
  },
  {
   "cell_type": "code",
   "execution_count": 191,
   "metadata": {},
   "outputs": [
    {
     "data": {
      "text/plain": [
       "415"
      ]
     },
     "execution_count": 191,
     "metadata": {},
     "output_type": "execute_result"
    }
   ],
   "source": [
    "open(output_script_file_path, \"w\").write(output_script)"
   ]
  },
  {
   "cell_type": "code",
   "execution_count": 192,
   "metadata": {},
   "outputs": [
    {
     "name": "stdout",
     "output_type": "stream",
     "text": [
      "done writing .\\log_output_example.txt\n"
     ]
    }
   ],
   "source": [
    "%run -i .\\example_output_script .\\log_example.txt .\\log_output_example.txt"
   ]
  },
  {
   "cell_type": "code",
   "execution_count": null,
   "metadata": {
    "collapsed": true
   },
   "outputs": [],
   "source": []
  }
 ],
 "metadata": {
  "kernelspec": {
   "display_name": "Python 3",
   "language": "python",
   "name": "python3"
  },
  "language_info": {
   "codemirror_mode": {
    "name": "ipython",
    "version": 3
   },
   "file_extension": ".py",
   "mimetype": "text/x-python",
   "name": "python",
   "nbconvert_exporter": "python",
   "pygments_lexer": "ipython3",
   "version": "3.6.1"
  }
 },
 "nbformat": 4,
 "nbformat_minor": 2
}
