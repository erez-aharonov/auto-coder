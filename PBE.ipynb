{
 "cells": [
  {
   "cell_type": "code",
   "execution_count": 1,
   "metadata": {
    "collapsed": true
   },
   "outputs": [],
   "source": [
    "import itertools\n",
    "import pandas as pd\n",
    "import numpy as np\n",
    "from IPython.display import display"
   ]
  },
  {
   "cell_type": "code",
   "execution_count": 16,
   "metadata": {
    "collapsed": true
   },
   "outputs": [],
   "source": [
    "def get_all_substrings(input_string):\n",
    "  length = len(input_string)\n",
    "  return set([input_string[i:j+1] for i in range(length) for j in range(i,length)])"
   ]
  },
  {
   "cell_type": "code",
   "execution_count": 3,
   "metadata": {
    "collapsed": true
   },
   "outputs": [],
   "source": [
    "def split_string(a_string):\n",
    "    return [\"x = x.split(\\\"{}\\\")\".format(sep) for sep in get_all_substrings(a_string) if len(sep) <= 2]"
   ]
  },
  {
   "cell_type": "code",
   "execution_count": 4,
   "metadata": {
    "collapsed": false
   },
   "outputs": [
    {
     "data": {
      "text/plain": [
       "['x = x.split(\"a\")',\n",
       " 'x = x.split(\"c\")',\n",
       " 'x = x.split(\"c \")',\n",
       " 'x = x.split(\"d\")',\n",
       " 'x = x.split(\"ab\")',\n",
       " 'x = x.split(\" d\")',\n",
       " 'x = x.split(\"bc\")',\n",
       " 'x = x.split(\" \")',\n",
       " 'x = x.split(\"b\")']"
      ]
     },
     "execution_count": 4,
     "metadata": {},
     "output_type": "execute_result"
    }
   ],
   "source": [
    "split_string(\"abc d\")"
   ]
  },
  {
   "cell_type": "code",
   "execution_count": 5,
   "metadata": {
    "collapsed": true
   },
   "outputs": [],
   "source": [
    "def get_select_combinations(a_list):\n",
    "    list_of_list = [list(itertools.combinations(range(len(a_list)), k)) for k in range(1, len(a_list) + 1)]\n",
    "    reverse_list_of_list = [list(itertools.combinations(np.linspace(-len(a_list), -1, len(a_list)).astype(int), k)) for k in range(1, len(a_list) + 1)]\n",
    "    select_list = list(itertools.chain.from_iterable(list_of_list + reverse_list_of_list))\n",
    "    func_str_list = [\"x = [x[i] for i in {}]\".format(selected) for selected in select_list if len(selected) <= 3]\n",
    "    return func_str_list"
   ]
  },
  {
   "cell_type": "code",
   "execution_count": 6,
   "metadata": {
    "collapsed": false
   },
   "outputs": [
    {
     "data": {
      "text/plain": [
       "['x = [x[i] for i in (0,)]',\n",
       " 'x = [x[i] for i in (1,)]',\n",
       " 'x = [x[i] for i in (2,)]',\n",
       " 'x = [x[i] for i in (0, 1)]',\n",
       " 'x = [x[i] for i in (0, 2)]',\n",
       " 'x = [x[i] for i in (1, 2)]',\n",
       " 'x = [x[i] for i in (0, 1, 2)]',\n",
       " 'x = [x[i] for i in (-3,)]',\n",
       " 'x = [x[i] for i in (-2,)]',\n",
       " 'x = [x[i] for i in (-1,)]',\n",
       " 'x = [x[i] for i in (-3, -2)]',\n",
       " 'x = [x[i] for i in (-3, -1)]',\n",
       " 'x = [x[i] for i in (-2, -1)]',\n",
       " 'x = [x[i] for i in (-3, -2, -1)]']"
      ]
     },
     "execution_count": 6,
     "metadata": {},
     "output_type": "execute_result"
    }
   ],
   "source": [
    "get_select_combinations([\"a\", \"c\", \"b\"])"
   ]
  },
  {
   "cell_type": "code",
   "execution_count": 7,
   "metadata": {
    "collapsed": true
   },
   "outputs": [],
   "source": [
    "def get_permutations(a_list):\n",
    "    permutations_list = list(itertools.permutations(range(len(a_list))))\n",
    "    func_str_list = [\"x = [x[i] for i in {}]\".format(permutation) for permutation in permutations_list]\n",
    "    return func_str_list"
   ]
  },
  {
   "cell_type": "code",
   "execution_count": 8,
   "metadata": {
    "collapsed": false
   },
   "outputs": [
    {
     "data": {
      "text/plain": [
       "['x = [x[i] for i in (0, 1, 2)]',\n",
       " 'x = [x[i] for i in (0, 2, 1)]',\n",
       " 'x = [x[i] for i in (1, 0, 2)]',\n",
       " 'x = [x[i] for i in (1, 2, 0)]',\n",
       " 'x = [x[i] for i in (2, 0, 1)]',\n",
       " 'x = [x[i] for i in (2, 1, 0)]']"
      ]
     },
     "execution_count": 8,
     "metadata": {},
     "output_type": "execute_result"
    }
   ],
   "source": [
    "get_permutations([\"a\", \"c\", \"b\"])"
   ]
  },
  {
   "cell_type": "code",
   "execution_count": 9,
   "metadata": {
    "collapsed": true
   },
   "outputs": [],
   "source": [
    "def join_list_to_string(a_list, output_string):\n",
    "    return [\"x = \\\"{}\\\".join(x)\".format(sep) for sep in list(get_all_substrings(output_string)) + [\"\"] if len(sep) <= 2]"
   ]
  },
  {
   "cell_type": "code",
   "execution_count": 10,
   "metadata": {
    "collapsed": false
   },
   "outputs": [
    {
     "data": {
      "text/plain": [
       "['x = \"a\".join(x)',\n",
       " 'x = \"s\".join(x)',\n",
       " 'x = \"d\".join(x)',\n",
       " 'x = \"bd\".join(x)',\n",
       " 'x = \"ds\".join(x)',\n",
       " 'x = \"ab\".join(x)',\n",
       " 'x = \"b\".join(x)',\n",
       " 'x = \"\".join(x)']"
      ]
     },
     "execution_count": 10,
     "metadata": {},
     "output_type": "execute_result"
    }
   ],
   "source": [
    "join_list_to_string([\"a\", \"c\", \"b\"], \"abds\")"
   ]
  },
  {
   "cell_type": "code",
   "execution_count": 11,
   "metadata": {
    "collapsed": true
   },
   "outputs": [],
   "source": [
    "def apply_meta_func(input_obj, func):\n",
    "    func_list = func(input_obj)\n",
    "    def apply_func(func):\n",
    "        d = {\"x\": input_obj}\n",
    "        exec(func, d)\n",
    "        return d[\"x\"]\n",
    "    obj_list = list(map(apply_func, func_list))\n",
    "    return func_list, obj_list "
   ]
  },
  {
   "cell_type": "code",
   "execution_count": 12,
   "metadata": {
    "collapsed": true
   },
   "outputs": [],
   "source": [
    "def apply_meta_func_on_group(group, meta_func):\n",
    "    input_obj = group.iloc[0][\"obj\"]\n",
    "    func_str = group.iloc[0][\"func_str\"]\n",
    "    func_list, obj_list = apply_meta_func(input_obj, meta_func)\n",
    "    output_data_frame = pd.DataFrame([obj_list, func_list]).T\n",
    "    output_data_frame.columns = [\"obj\", \"func_str\"]\n",
    "    func_str += \"\\n\" + output_data_frame[\"func_str\"]\n",
    "    output_data_frame[\"func_str\"] = func_str    \n",
    "    return output_data_frame"
   ]
  },
  {
   "cell_type": "code",
   "execution_count": 13,
   "metadata": {
    "collapsed": true
   },
   "outputs": [],
   "source": [
    "def apply_func_on_input_output_example(row, input_string, output_string):\n",
    "    func_str = row\n",
    "    d = {\"x\": input_string}\n",
    "    try:\n",
    "        exec(func_str, d)\n",
    "        return d[\"x\"] == output_string\n",
    "    except:\n",
    "        return False"
   ]
  },
  {
   "cell_type": "code",
   "execution_count": 14,
   "metadata": {
    "collapsed": true
   },
   "outputs": [],
   "source": [
    "def code(input_output_examples_list, is_log=False):\n",
    "    input_string = input_output_examples_list[0][0]\n",
    "    output_string = input_output_examples_list[0][1]\n",
    "    input_obj_list = [input_string]\n",
    "    input_func_str_list = [\"\"]\n",
    "    func_data_frame = pd.DataFrame([input_obj_list, input_func_str_list]).T\n",
    "    func_data_frame.columns = [\"obj\", \"func_str\"]\n",
    "    \n",
    "    join_list_to_string_with_output = lambda a_list: join_list_to_string(a_list, output_string)\n",
    "    \n",
    "    if is_log:\n",
    "        meta_func_list = [split_string, get_select_combinations, join_list_to_string_with_output]\n",
    "    else:\n",
    "        meta_func_list = [split_string, get_select_combinations, get_permutations, join_list_to_string_with_output]    \n",
    "    \n",
    "    for meta_func in meta_func_list:\n",
    "        func_data_frame = func_data_frame.groupby([\"func_str\"]).apply(apply_meta_func_on_group, meta_func)\n",
    "        func_data_frame.reset_index(drop=True, inplace=True)\n",
    "        \n",
    "    print(\"total number of functions: {}\".format(len(func_data_frame)))\n",
    "        \n",
    "    possible_code_series = func_data_frame[func_data_frame.obj == output_string][\"func_str\"]\n",
    "    \n",
    "    for input_output_example in input_output_examples_list[1:]:\n",
    "        is_good_func_series = possible_code_series.apply(apply_func_on_input_output_example, args=(input_output_example))\n",
    "        possible_code_series = possible_code_series[is_good_func_series]\n",
    "        \n",
    "    return possible_code_series"
   ]
  },
  {
   "cell_type": "code",
   "execution_count": 15,
   "metadata": {
    "collapsed": false
   },
   "outputs": [
    {
     "name": "stdout",
     "output_type": "stream",
     "text": [
      "total number of functions: 2288\n",
      "\n",
      "x = x.split(\" \")\n",
      "x = [x[i] for i in (-3, -2, -1)]\n",
      "x = [x[i] for i in (1, 2, 0)]\n",
      "x = \"mm\".join(x)\n",
      "\n",
      "x = x.split(\" \")\n",
      "x = [x[i] for i in (0, 1, 2)]\n",
      "x = [x[i] for i in (1, 2, 0)]\n",
      "x = \"mm\".join(x)\n"
     ]
    },
    {
     "data": {
      "text/plain": [
       "144    None\n",
       "261    None\n",
       "Name: func_str, dtype: object"
      ]
     },
     "execution_count": 15,
     "metadata": {},
     "output_type": "execute_result"
    }
   ],
   "source": [
    "input_output_examples_list = [(\"aa bb cc\", \"bbmmccmmaa\"), (\"ll dd ff\", \"ddmmffmmll\")]\n",
    "possible_code_series = code(input_output_examples_list)\n",
    "possible_code_series.apply(print)"
   ]
  },
  {
   "cell_type": "code",
   "execution_count": 16,
   "metadata": {
    "collapsed": false
   },
   "outputs": [
    {
     "name": "stdout",
     "output_type": "stream",
     "text": [
      "total number of functions: 780\n",
      "\n",
      "x = x.split(\"l\")\n",
      "x = [x[i] for i in (-3, -1)]\n",
      "x = [x[i] for i in (1, 0)]\n",
      "x = \"\".join(x)\n",
      "\n",
      "x = x.split(\"l\")\n",
      "x = [x[i] for i in (-3, -2, -1)]\n",
      "x = [x[i] for i in (1, 2, 0)]\n",
      "x = \"\".join(x)\n",
      "\n",
      "x = x.split(\"l\")\n",
      "x = [x[i] for i in (-3, -2, -1)]\n",
      "x = [x[i] for i in (2, 0, 1)]\n",
      "x = \"\".join(x)\n",
      "\n",
      "x = x.split(\"l\")\n",
      "x = [x[i] for i in (-3, -2, -1)]\n",
      "x = [x[i] for i in (2, 1, 0)]\n",
      "x = \"\".join(x)\n",
      "\n",
      "x = x.split(\"l\")\n",
      "x = [x[i] for i in (0, 1, 2)]\n",
      "x = [x[i] for i in (1, 2, 0)]\n",
      "x = \"\".join(x)\n",
      "\n",
      "x = x.split(\"l\")\n",
      "x = [x[i] for i in (0, 1, 2)]\n",
      "x = [x[i] for i in (2, 0, 1)]\n",
      "x = \"\".join(x)\n",
      "\n",
      "x = x.split(\"l\")\n",
      "x = [x[i] for i in (0, 1, 2)]\n",
      "x = [x[i] for i in (2, 1, 0)]\n",
      "x = \"\".join(x)\n",
      "\n",
      "x = x.split(\"l\")\n",
      "x = [x[i] for i in (0, 2)]\n",
      "x = [x[i] for i in (1, 0)]\n",
      "x = \"\".join(x)\n",
      "\n",
      "x = x.split(\"ll\")\n",
      "x = [x[i] for i in (-2, -1)]\n",
      "x = [x[i] for i in (1, 0)]\n",
      "x = \"\".join(x)\n",
      "\n",
      "x = x.split(\"ll\")\n",
      "x = [x[i] for i in (0, 1)]\n",
      "x = [x[i] for i in (1, 0)]\n",
      "x = \"\".join(x)\n"
     ]
    },
    {
     "data": {
      "text/plain": [
       "311    None\n",
       "347    None\n",
       "353    None\n",
       "359    None\n",
       "401    None\n",
       "407    None\n",
       "413    None\n",
       "425    None\n",
       "473    None\n",
       "491    None\n",
       "Name: func_str, dtype: object"
      ]
     },
     "execution_count": 16,
     "metadata": {},
     "output_type": "execute_result"
    }
   ],
   "source": [
    "input_output_examples_list = [(\"ffllnn\", \"nnff\"), (\"kkllmm\", \"mmkk\")]\n",
    "possible_code_series = code(input_output_examples_list)\n",
    "possible_code_series.apply(print)"
   ]
  },
  {
   "cell_type": "markdown",
   "metadata": {
    "collapsed": true
   },
   "source": [
    "# logs"
   ]
  },
  {
   "cell_type": "code",
   "execution_count": 17,
   "metadata": {
    "collapsed": true
   },
   "outputs": [],
   "source": [
    "def get_max_length_common_string(string_1, string_2):\n",
    "    union_list = [substring for substring in get_all_substrings(string_1) if substring in string_2]\n",
    "    common_string = union_list[pd.Series(union_list).apply(len).argmax()]\n",
    "    return common_string"
   ]
  },
  {
   "cell_type": "code",
   "execution_count": 18,
   "metadata": {
    "collapsed": true
   },
   "outputs": [],
   "source": [
    "def get_info_from_log(log_lines, output_strings_list):\n",
    "    log_lines = [line.replace(\"\\n\", \"\") for line in log_lines]\n",
    "    interesting_lines = []\n",
    "    for line in log_lines:\n",
    "        for output_string in output_strings_list:\n",
    "            if output_string in line:        \n",
    "                interesting_lines.append((line, output_string))\n",
    "                \n",
    "    common_string = get_max_length_common_string(interesting_lines[0][0], interesting_lines[1][0])\n",
    "    \n",
    "    common_string_no_numeric_trail = common_string[:(-pd.Series(list(common_string)).str.isnumeric().values[::-1].argmin())]\n",
    "    \n",
    "    input_output_examples_list = interesting_lines\n",
    "    possible_code_series = code(input_output_examples_list, True)\n",
    "    \n",
    "    possible_code_series.apply(print)\n",
    "    \n",
    "    inner_func = \"\\n\".join([\"\\t\" + line for line in possible_code_series.iloc[0].split(\"\\n\") if line != \"\"] )\n",
    "    \n",
    "    output_list = []\n",
    "    for line in log_lines:\n",
    "        if common_string_no_numeric_trail in line:\n",
    "            d = {\"x\": line}\n",
    "            exec(possible_code_series.iloc[0], d)            \n",
    "            output_list.append(d[\"x\"])\n",
    "            \n",
    "    func = \"\"\"\n",
    "output_list = []\n",
    "for line in log_lines:\n",
    "    if \\\"{}\\\" in line:\n",
    "        x = line\n",
    "{}\n",
    "        output_list.append(x)\n",
    "\"\"\".format(common_string_no_numeric_trail, inner_func)\n",
    "    \n",
    "    return output_list, func"
   ]
  },
  {
   "cell_type": "code",
   "execution_count": 19,
   "metadata": {
    "collapsed": false
   },
   "outputs": [
    {
     "data": {
      "text/plain": [
       "['Aug  1 18:27:45 knight sshd[20325]: Illegal user test from 218.49.183.17\\n',\n",
       " 'Aug  1 18:27:46 knight sshd[20325]: Failed password for illegal user test from 218.49.183.17 port 48849 ssh2\\n',\n",
       " 'Aug  1 18:27:46 knight sshd[20325]: error: Could not get shadow information for NOUSER\\n',\n",
       " 'Aug  1 18:27:48 knight sshd[20327]: Illegal user guest from 218.49.183.17\\n',\n",
       " 'Aug  1 18:27:49 knight sshd[20327]: Failed password for illegal user guest from 218.49.183.17 port 49090 ssh2\\n',\n",
       " 'Aug  1 18:27:49 knight sshd[20327]: error: Could not get shadow information for NOUSER\\n',\n",
       " 'Aug  1 18:27:52 knight sshd[20329]: Failed password for admin from 218.49.183.17 port 49266 ssh2\\n',\n",
       " 'Aug  1 18:27:56 knight sshd[20331]: Failed password for admin from 218.49.183.17 port 49468 ssh2\\n',\n",
       " 'Aug  1 18:27:58 knight sshd[20334]: Illegal user user from 218.49.183.17\\n',\n",
       " 'Aug  1 18:27:59 knight sshd[20334]: Failed password for illegal user user from 218.49.183.17 port 49680 ssh2\\n',\n",
       " 'Aug  1 18:27:59 knight sshd[20334]: error: Could not get shadow information for NOUSER\\n',\n",
       " 'Aug  1 18:28:02 knight sshd[20336]: Failed password for root from 218.49.183.17 port 49869 ssh2\\n',\n",
       " 'Aug  1 18:28:05 knight sshd[20347]: Failed password for root from 218.49.183.17 port 50063 ssh2\\n',\n",
       " 'Aug  1 18:28:12 knight sshd[20349]: Failed password for root from 218.49.183.17 port 50245 ssh2\\n',\n",
       " 'Aug  1 18:28:14 knight sshd[20352]: Illegal user test from 218.49.183.17\\n',\n",
       " 'Aug  1 18:28:19 knight sshd[20352]: Failed password for illegal user test from 218.49.183.17 port 50671 ssh2\\n',\n",
       " 'Aug  1 18:28:19 knight sshd[20352]: error: Could not get shadow information for NOUSER\\n',\n",
       " 'Aug  1 18:29:55 knight sshd[20402]: Illegal user test from 218.49.183.17\\n',\n",
       " 'Aug  1 18:29:56 knight sshd[20402]: Failed password for illegal user test from 218.49.183.17 port 52244 ssh2\\n',\n",
       " 'Aug  1 18:29:56 knight sshd[20402]: error: Could not get shadow information for NOUSER\\n',\n",
       " 'Aug  1 18:29:58 knight sshd[20404]: Illegal user guest from 218.49.183.17\\n',\n",
       " 'Aug  1 18:30:02 knight sshd[20406]: Illegal user test from 218.49.183.17\\n',\n",
       " 'Aug  1 18:30:03 knight sshd[20404]: Failed password for illegal user guest from 218.49.183.17 port 52416 ssh2\\n',\n",
       " 'Aug  1 18:30:03 knight sshd[20404]: error: Could not get shadow information for NOUSER\\n',\n",
       " 'Aug  1 18:30:03 knight sshd[20406]: Failed password for illegal user test from 218.49.183.17 port 52558 ssh2\\n',\n",
       " 'Aug  1 18:30:03 knight sshd[20406]: error: Could not get shadow information for NOUSER\\n',\n",
       " 'Aug  1 18:30:05 knight sshd[20439]: Failed password for illegal user guest from 218.49.183.17 port 52818 ssh2\\n',\n",
       " 'Aug  1 18:30:05 knight sshd[20439]: Illegal user guest from 218.49.183.17\\n',\n",
       " 'Aug  1 18:30:05 knight sshd[20439]: error: Could not get shadow information for NOUSER\\n',\n",
       " 'Aug  1 18:30:06 knight sshd[20441]: Failed password for admin from 218.49.183.17 port 52851 ssh2\\n',\n",
       " 'Aug  1 18:30:08 knight sshd[20443]: Failed password for admin from 218.49.183.17 port 53014 ssh2\\n',\n",
       " 'Aug  1 18:30:09 knight sshd[20445]: Failed password for admin from 218.49.183.17 port 53040 ssh2\\n',\n",
       " 'Aug  1 18:30:11 knight sshd[20447]: Failed password for admin from 218.49.183.17 port 53192 ssh2\\n',\n",
       " 'Aug  1 18:30:11 knight sshd[20449]: Illegal user user from 218.49.183.17\\n',\n",
       " 'Aug  1 18:30:12 knight sshd[20449]: Failed password for illegal user user from 218.49.183.17 port 53230 ssh2\\n',\n",
       " 'Aug  1 18:30:12 knight sshd[20449]: error: Could not get shadow information for NOUSER\\n',\n",
       " 'Aug  1 18:30:13 knight sshd[20451]: Illegal user user from 218.49.183.17\\n',\n",
       " 'Aug  1 18:30:14 knight sshd[20451]: Failed password for illegal user user from 218.49.183.17 port 53404 ssh2\\n',\n",
       " 'Aug  1 18:30:14 knight sshd[20451]: error: Could not get shadow information for NOUSER\\n',\n",
       " 'Aug  1 18:30:14 knight sshd[20453]: Failed password for root from 218.49.183.17 port 53425 ssh2\\n',\n",
       " 'Aug  1 18:30:21 knight sshd[20455]: Failed password for root from 218.49.183.17 port 53571 ssh2\\n',\n",
       " 'Aug  1 18:30:22 knight sshd[20457]: Failed password for root from 218.49.183.17 port 53615 ssh2\\n',\n",
       " 'Aug  1 18:30:24 knight sshd[20476]: Failed password for root from 218.49.183.17 port 54033 ssh2\\n',\n",
       " 'Aug  1 18:30:24 knight sshd[20484]: Failed password for root from 218.49.183.17 port 54078 ssh2\\n',\n",
       " 'Aug  1 18:30:26 knight sshd[20488]: Illegal user test from 218.49.183.17\\n',\n",
       " 'Aug  1 18:30:27 knight sshd[20486]: Failed password for root from 218.49.183.17 port 54243 ssh2\\n',\n",
       " 'Aug  1 18:30:27 knight sshd[20488]: Failed password for illegal user test from 218.49.183.17 port 54285 ssh2\\n',\n",
       " 'Aug  1 18:30:27 knight sshd[20488]: error: Could not get shadow information for NOUSER\\n',\n",
       " 'Aug  1 18:30:29 knight sshd[20490]: Illegal user test from 218.49.183.17\\n',\n",
       " 'Aug  1 18:30:34 knight sshd[20490]: Failed password for illegal user test from 218.49.183.17 port 54423 ssh2\\n',\n",
       " 'Aug  1 18:30:34 knight sshd[20490]: error: Could not get shadow information for NOUSER\\n',\n",
       " 'Aug  1 18:35:53 knight sshd[20658]: Illegal user test from 218.49.183.17\\n',\n",
       " 'Aug  1 18:35:54 knight sshd[20658]: Failed password for illegal user test from 218.49.183.17 port 39604 ssh2\\n',\n",
       " 'Aug  1 18:35:54 knight sshd[20658]: error: Could not get shadow information for NOUSER\\n',\n",
       " 'Aug  1 18:35:56 knight sshd[20660]: Illegal user guest from 218.49.183.17\\n',\n",
       " 'Aug  1 18:35:57 knight sshd[20660]: Failed password for illegal user guest from 218.49.183.17 port 39811 ssh2\\n',\n",
       " 'Aug  1 18:35:57 knight sshd[20660]: error: Could not get shadow information for NOUSER\\n',\n",
       " 'Aug  1 18:36:00 knight sshd[20664]: Failed password for admin from 218.49.183.17 port 40009 ssh2\\n',\n",
       " 'Aug  1 18:36:04 knight sshd[20666]: Failed password for admin from 218.49.183.17 port 40217 ssh2\\n',\n",
       " 'Aug  1 18:36:06 knight sshd[20675]: Illegal user user from 218.49.183.17\\n',\n",
       " 'Aug  1 18:36:11 knight sshd[20675]: Failed password for illegal user user from 218.49.183.17 port 40470 ssh2\\n',\n",
       " 'Aug  1 18:36:11 knight sshd[20675]: error: Could not get shadow information for NOUSER\\n',\n",
       " 'Aug  1 18:36:14 knight sshd[20677]: Failed password for root from 218.49.183.17 port 40973 ssh2\\n',\n",
       " 'Aug  1 18:36:21 knight sshd[20679]: Failed password for root from 218.49.183.17 port 41159 ssh2\\n',\n",
       " 'Aug  1 18:36:24 knight sshd[20681]: Failed password for root from 218.49.183.17 port 41541 ssh2\\n',\n",
       " 'Aug  1 18:36:27 knight sshd[20683]: Illegal user test from 218.49.183.17\\n',\n",
       " 'Aug  1 18:36:28 knight sshd[20683]: Failed password for illegal user test from 218.49.183.17 port 41630 ssh\\n',\n",
       " 'Aug  1 18:36:28 knight sshd[20683]: error: Could not get shadow information for NOUSER']"
      ]
     },
     "execution_count": 19,
     "metadata": {},
     "output_type": "execute_result"
    }
   ],
   "source": [
    "file_path = r\".\\log_example.txt\"\n",
    "log_lines = open(file_path, \"r\").readlines()\n",
    "log_lines"
   ]
  },
  {
   "cell_type": "code",
   "execution_count": 20,
   "metadata": {
    "collapsed": false
   },
   "outputs": [
    {
     "name": "stdout",
     "output_type": "stream",
     "text": [
      "total number of functions: 63936\n",
      "\n",
      "x = x.split(\" \")\n",
      "x = [x[i] for i in (-3, -2)]\n",
      "x = \" \".join(x)\n"
     ]
    },
    {
     "data": {
      "text/plain": [
       "['port 48849',\n",
       " 'port 49090',\n",
       " 'port 49266',\n",
       " 'port 49468',\n",
       " 'port 49680',\n",
       " 'port 49869',\n",
       " 'port 50063',\n",
       " 'port 50245',\n",
       " 'port 50671',\n",
       " 'port 52244',\n",
       " 'port 52416',\n",
       " 'port 52558',\n",
       " 'port 52818',\n",
       " 'port 52851',\n",
       " 'port 53014',\n",
       " 'port 53040',\n",
       " 'port 53192',\n",
       " 'port 53230',\n",
       " 'port 53404',\n",
       " 'port 53425',\n",
       " 'port 53571',\n",
       " 'port 53615',\n",
       " 'port 54033',\n",
       " 'port 54078',\n",
       " 'port 54243',\n",
       " 'port 54285',\n",
       " 'port 54423',\n",
       " 'port 39604',\n",
       " 'port 39811',\n",
       " 'port 40009',\n",
       " 'port 40217',\n",
       " 'port 40470',\n",
       " 'port 40973',\n",
       " 'port 41159',\n",
       " 'port 41541',\n",
       " 'port 41630']"
      ]
     },
     "metadata": {},
     "output_type": "display_data"
    },
    {
     "name": "stdout",
     "output_type": "stream",
     "text": [
      "\n",
      "output_list = []\n",
      "for line in log_lines:\n",
      "    if \" from 218.49.183.17 port \" in line:\n",
      "        x = line\n",
      "\tx = x.split(\" \")\n",
      "\tx = [x[i] for i in (-3, -2)]\n",
      "\tx = \" \".join(x)\n",
      "        output_list.append(x)\n",
      "\n"
     ]
    }
   ],
   "source": [
    "output_strings_list = [\"port 40009\", \"port 48849\"]\n",
    "\n",
    "output_list, func = get_info_from_log(log_lines, output_strings_list)\n",
    "\n",
    "display(output_list)\n",
    "print(func)"
   ]
  },
  {
   "cell_type": "markdown",
   "metadata": {
    "collapsed": true
   },
   "source": [
    "# learn from all pairs at once"
   ]
  },
  {
   "cell_type": "code",
   "execution_count": 2,
   "metadata": {
    "collapsed": true
   },
   "outputs": [],
   "source": [
    "input_output_examples_list = [(\"aa bb cc\", \"bbmmccmmaa\"), (\"ll dd ff\", \"ddmmffmmll\")]"
   ]
  },
  {
   "cell_type": "code",
   "execution_count": 27,
   "metadata": {
    "collapsed": true
   },
   "outputs": [],
   "source": [
    "# input_string = input_output_examples_list[0][0]\n",
    "# output_string = input_output_examples_list[0][1]\n",
    "input_output_obj_list = [input_output_examples_list]\n",
    "func_str_list = [\"\"]\n",
    "func_data_frame = pd.DataFrame([input_output_obj_list, func_str_list]).T\n",
    "func_data_frame.columns = [\"input_output_obj_list\", \"func_str\"]\n",
    "\n",
    "# join_list_to_string_with_output = lambda a_list: join_list_to_string(a_list, output_string)\n",
    "\n",
    "# if is_log:\n",
    "#     meta_func_list = [split_string, get_select_combinations, join_list_to_string_with_output]\n",
    "# else:\n",
    "#     meta_func_list = [split_string, get_select_combinations, get_permutations, join_list_to_string_with_output]    \n",
    "\n",
    "# for meta_func in meta_func_list:\n",
    "#     func_data_frame = func_data_frame.groupby([\"func_str\"]).apply(apply_meta_func_on_group, meta_func)\n",
    "#     func_data_frame.reset_index(drop=True, inplace=True)\n",
    "\n",
    "# print(\"total number of functions: {}\".format(len(func_data_frame)))\n",
    "\n",
    "# possible_code_series = func_data_frame[func_data_frame.obj == output_string][\"func_str\"]\n",
    "\n",
    "# for input_output_example in input_output_examples_list[1:]:\n",
    "#     is_good_func_series = possible_code_series.apply(apply_func_on_input_output_example, args=(input_output_example))\n",
    "#     possible_code_series = possible_code_series[is_good_func_series]"
   ]
  },
  {
   "cell_type": "code",
   "execution_count": 28,
   "metadata": {
    "collapsed": false
   },
   "outputs": [
    {
     "data": {
      "text/html": [
       "<div>\n",
       "<style>\n",
       "    .dataframe thead tr:only-child th {\n",
       "        text-align: right;\n",
       "    }\n",
       "\n",
       "    .dataframe thead th {\n",
       "        text-align: left;\n",
       "    }\n",
       "\n",
       "    .dataframe tbody tr th {\n",
       "        vertical-align: top;\n",
       "    }\n",
       "</style>\n",
       "<table border=\"1\" class=\"dataframe\">\n",
       "  <thead>\n",
       "    <tr style=\"text-align: right;\">\n",
       "      <th></th>\n",
       "      <th>input_output_obj_list</th>\n",
       "      <th>func_str</th>\n",
       "    </tr>\n",
       "  </thead>\n",
       "  <tbody>\n",
       "    <tr>\n",
       "      <th>0</th>\n",
       "      <td>[(aa bb cc, bbmmccmmaa), (ll dd ff, ddmmffmmll)]</td>\n",
       "      <td></td>\n",
       "    </tr>\n",
       "  </tbody>\n",
       "</table>\n",
       "</div>"
      ],
      "text/plain": [
       "                              input_output_obj_list func_str\n",
       "0  [(aa bb cc, bbmmccmmaa), (ll dd ff, ddmmffmmll)]         "
      ]
     },
     "execution_count": 28,
     "metadata": {},
     "output_type": "execute_result"
    }
   ],
   "source": [
    "func_data_frame"
   ]
  },
  {
   "cell_type": "code",
   "execution_count": 29,
   "metadata": {
    "collapsed": true
   },
   "outputs": [],
   "source": [
    "meta_func = split_string"
   ]
  },
  {
   "cell_type": "code",
   "execution_count": 30,
   "metadata": {
    "collapsed": false
   },
   "outputs": [
    {
     "data": {
      "text/plain": [
       "<function __main__.split_string>"
      ]
     },
     "execution_count": 30,
     "metadata": {},
     "output_type": "execute_result"
    }
   ],
   "source": [
    "meta_func"
   ]
  },
  {
   "cell_type": "code",
   "execution_count": 31,
   "metadata": {
    "collapsed": true
   },
   "outputs": [],
   "source": [
    "group = list(func_data_frame.groupby([\"func_str\"]))[0][1]"
   ]
  },
  {
   "cell_type": "code",
   "execution_count": 47,
   "metadata": {
    "collapsed": false
   },
   "outputs": [
    {
     "data": {
      "text/html": [
       "<div>\n",
       "<style>\n",
       "    .dataframe thead tr:only-child th {\n",
       "        text-align: right;\n",
       "    }\n",
       "\n",
       "    .dataframe thead th {\n",
       "        text-align: left;\n",
       "    }\n",
       "\n",
       "    .dataframe tbody tr th {\n",
       "        vertical-align: top;\n",
       "    }\n",
       "</style>\n",
       "<table border=\"1\" class=\"dataframe\">\n",
       "  <thead>\n",
       "    <tr style=\"text-align: right;\">\n",
       "      <th></th>\n",
       "      <th>input_output_obj_list</th>\n",
       "      <th>func_str</th>\n",
       "    </tr>\n",
       "  </thead>\n",
       "  <tbody>\n",
       "    <tr>\n",
       "      <th>0</th>\n",
       "      <td>[(aa bb cc, bbmmccmmaa), (ll dd ff, ddmmffmmll)]</td>\n",
       "      <td></td>\n",
       "    </tr>\n",
       "  </tbody>\n",
       "</table>\n",
       "</div>"
      ],
      "text/plain": [
       "                              input_output_obj_list func_str\n",
       "0  [(aa bb cc, bbmmccmmaa), (ll dd ff, ddmmffmmll)]         "
      ]
     },
     "execution_count": 47,
     "metadata": {},
     "output_type": "execute_result"
    }
   ],
   "source": [
    "group"
   ]
  },
  {
   "cell_type": "code",
   "execution_count": 17,
   "metadata": {
    "collapsed": true
   },
   "outputs": [],
   "source": [
    "def get_intersection_of_list_of_sets(list_of_sets):\n",
    "    set_0 = list_of_sets[0]\n",
    "    for a_set in list_of_sets[1:]:\n",
    "        set_0 = set_0.intersection(a_set)\n",
    "    return set_0"
   ]
  },
  {
   "cell_type": "code",
   "execution_count": 43,
   "metadata": {
    "collapsed": true
   },
   "outputs": [],
   "source": [
    "def split_string(string_list):\n",
    "    list_of_set_of_separators = [get_all_substrings(string) for string in string_list]\n",
    "    set_of_separators = get_intersection_of_list_of_sets(list_of_set_of_separators)\n",
    "    return [\"x = x.split(\\\"{}\\\")\".format(sep) for sep in set_of_separators]"
   ]
  },
  {
   "cell_type": "code",
   "execution_count": 46,
   "metadata": {
    "collapsed": false
   },
   "outputs": [
    {
     "data": {
      "text/plain": [
       "['x = x.split(\" \")']"
      ]
     },
     "execution_count": 46,
     "metadata": {},
     "output_type": "execute_result"
    }
   ],
   "source": [
    "string_list = ['aa bb cc', 'll dd ff']\n",
    "split_string(string_list)"
   ]
  },
  {
   "cell_type": "code",
   "execution_count": 48,
   "metadata": {
    "collapsed": true
   },
   "outputs": [],
   "source": [
    "def apply_meta_func(input_obj, func):\n",
    "    func_list = func(input_obj)\n",
    "    def apply_func(func):\n",
    "        d = {\"x\": input_obj}\n",
    "        exec(func, d)\n",
    "        return d[\"x\"]\n",
    "    obj_list = list(map(apply_func, func_list))\n",
    "    return func_list, obj_list "
   ]
  },
  {
   "cell_type": "code",
   "execution_count": 56,
   "metadata": {
    "collapsed": false
   },
   "outputs": [
    {
     "data": {
      "text/plain": [
       "(['aa bb cc', 'll dd ff'], <function __main__.split_string>)"
      ]
     },
     "execution_count": 56,
     "metadata": {},
     "output_type": "execute_result"
    }
   ],
   "source": [
    "input_obj_list = string_list\n",
    "meta_func = split_string\n",
    "input_obj, meta_func"
   ]
  },
  {
   "cell_type": "code",
   "execution_count": 58,
   "metadata": {
    "collapsed": true
   },
   "outputs": [],
   "source": [
    "func_list = meta_func(input_obj_list)\n",
    "def apply_func(func, input_obj):\n",
    "    d = {\"x\": input_obj}\n",
    "    exec(func, d)\n",
    "    return d[\"x\"]\n",
    "# obj_list = list(map(apply_func, func_list))"
   ]
  },
  {
   "cell_type": "code",
   "execution_count": 55,
   "metadata": {
    "collapsed": false
   },
   "outputs": [
    {
     "data": {
      "text/plain": [
       "['x = x.split(\" \")']"
      ]
     },
     "execution_count": 55,
     "metadata": {},
     "output_type": "execute_result"
    }
   ],
   "source": [
    "func_list"
   ]
  },
  {
   "cell_type": "code",
   "execution_count": 59,
   "metadata": {
    "collapsed": false
   },
   "outputs": [
    {
     "data": {
      "text/plain": [
       "[[['aa', 'bb', 'cc'], ['ll', 'dd', 'ff']]]"
      ]
     },
     "execution_count": 59,
     "metadata": {},
     "output_type": "execute_result"
    }
   ],
   "source": [
    "[[apply_func(func, input_obj) for input_obj in input_obj_list] for func in func_list]"
   ]
  },
  {
   "cell_type": "markdown",
   "metadata": {},
   "source": [
    "# each input-output-program in single row"
   ]
  },
  {
   "cell_type": "code",
   "execution_count": 61,
   "metadata": {
    "collapsed": false
   },
   "outputs": [
    {
     "data": {
      "text/html": [
       "<div>\n",
       "<table border=\"1\" class=\"dataframe\">\n",
       "  <thead>\n",
       "    <tr style=\"text-align: right;\">\n",
       "      <th></th>\n",
       "      <th>input</th>\n",
       "      <th>output</th>\n",
       "      <th>program</th>\n",
       "    </tr>\n",
       "  </thead>\n",
       "  <tbody>\n",
       "    <tr>\n",
       "      <th>0</th>\n",
       "      <td>aa bb cc</td>\n",
       "      <td>bbmmccmmaa</td>\n",
       "      <td></td>\n",
       "    </tr>\n",
       "    <tr>\n",
       "      <th>1</th>\n",
       "      <td>ll dd ff</td>\n",
       "      <td>ddmmffmmll</td>\n",
       "      <td></td>\n",
       "    </tr>\n",
       "  </tbody>\n",
       "</table>\n",
       "</div>"
      ],
      "text/plain": [
       "      input      output program\n",
       "0  aa bb cc  bbmmccmmaa        \n",
       "1  ll dd ff  ddmmffmmll        "
      ]
     },
     "execution_count": 61,
     "metadata": {},
     "output_type": "execute_result"
    }
   ],
   "source": [
    "input_output_examples_list = [(\"aa bb cc\", \"bbmmccmmaa\"), (\"ll dd ff\", \"ddmmffmmll\")]\n",
    "input_output_data_frame = pd.DataFrame(input_output_examples_list, columns=[\"input\", \"output\"])\n",
    "input_output_data_frame[\"program\"] = \"\"\n",
    "input_output_data_frame"
   ]
  },
  {
   "cell_type": "code",
   "execution_count": 15,
   "metadata": {
    "collapsed": false
   },
   "outputs": [
    {
     "data": {
      "text/html": [
       "<div>\n",
       "<table border=\"1\" class=\"dataframe\">\n",
       "  <thead>\n",
       "    <tr style=\"text-align: right;\">\n",
       "      <th></th>\n",
       "      <th>input</th>\n",
       "      <th>output</th>\n",
       "      <th>program</th>\n",
       "    </tr>\n",
       "  </thead>\n",
       "  <tbody>\n",
       "    <tr>\n",
       "      <th>0</th>\n",
       "      <td>aa bb cc</td>\n",
       "      <td>bbmmccmmaa</td>\n",
       "      <td></td>\n",
       "    </tr>\n",
       "    <tr>\n",
       "      <th>1</th>\n",
       "      <td>ll dd ff</td>\n",
       "      <td>ddmmffmmll</td>\n",
       "      <td></td>\n",
       "    </tr>\n",
       "  </tbody>\n",
       "</table>\n",
       "</div>"
      ],
      "text/plain": [
       "      input      output program\n",
       "0  aa bb cc  bbmmccmmaa        \n",
       "1  ll dd ff  ddmmffmmll        "
      ]
     },
     "execution_count": 15,
     "metadata": {},
     "output_type": "execute_result"
    }
   ],
   "source": [
    "group = list(input_output_data_frame.groupby(\"program\"))[0][1]\n",
    "group"
   ]
  },
  {
   "cell_type": "code",
   "execution_count": 55,
   "metadata": {
    "collapsed": false
   },
   "outputs": [],
   "source": [
    "def split_string(group):\n",
    "    input_string_list = group[\"input\"].values.tolist()\n",
    "    list_of_set_of_separators = [get_all_substrings(string) for string in input_string_list]\n",
    "    set_of_separators = get_intersection_of_list_of_sets(list_of_set_of_separators)\n",
    "    candidate_functions_list = list(set([\"x = x.split(\\\"{}\\\")\".format(sep) for sep in set_of_separators]))\n",
    "    return candidate_functions_list"
   ]
  },
  {
   "cell_type": "code",
   "execution_count": 56,
   "metadata": {
    "collapsed": false
   },
   "outputs": [
    {
     "data": {
      "text/plain": [
       "['x = x.split(\" \")']"
      ]
     },
     "execution_count": 56,
     "metadata": {},
     "output_type": "execute_result"
    }
   ],
   "source": [
    "split_string(group)"
   ]
  },
  {
   "cell_type": "code",
   "execution_count": 82,
   "metadata": {
    "collapsed": true
   },
   "outputs": [],
   "source": [
    "def apply_func(x, func):\n",
    "    d = {\"x\": x}\n",
    "    exec(func, d)\n",
    "    return d[\"x\"]\n",
    "\n",
    "def apply_func_on_group(group, func):\n",
    "    group_2 = group.copy()\n",
    "    group_2[\"input\"] = group[\"input\"].apply(apply_func, args=(func,))\n",
    "    group_2[\"program\"] += \"\\n\" + func\n",
    "    return group_2\n",
    "\n",
    "def apply_meta_func_on_group(group, meta_func):\n",
    "    func_list = meta_func(group)\n",
    "    updated_group = pd.concat([apply_func_on_group(group, func) for func in func_list])\n",
    "    return updated_group"
   ]
  },
  {
   "cell_type": "code",
   "execution_count": 83,
   "metadata": {
    "collapsed": false
   },
   "outputs": [
    {
     "data": {
      "text/html": [
       "<div>\n",
       "<table border=\"1\" class=\"dataframe\">\n",
       "  <thead>\n",
       "    <tr style=\"text-align: right;\">\n",
       "      <th></th>\n",
       "      <th>input</th>\n",
       "      <th>output</th>\n",
       "      <th>program</th>\n",
       "    </tr>\n",
       "  </thead>\n",
       "  <tbody>\n",
       "    <tr>\n",
       "      <th>0</th>\n",
       "      <td>[aa, bb, cc]</td>\n",
       "      <td>bbmmccmmaa</td>\n",
       "      <td>\\nx = x.split(\" \")</td>\n",
       "    </tr>\n",
       "    <tr>\n",
       "      <th>1</th>\n",
       "      <td>[ll, dd, ff]</td>\n",
       "      <td>ddmmffmmll</td>\n",
       "      <td>\\nx = x.split(\" \")</td>\n",
       "    </tr>\n",
       "  </tbody>\n",
       "</table>\n",
       "</div>"
      ],
      "text/plain": [
       "          input      output             program\n",
       "0  [aa, bb, cc]  bbmmccmmaa  \\nx = x.split(\" \")\n",
       "1  [ll, dd, ff]  ddmmffmmll  \\nx = x.split(\" \")"
      ]
     },
     "execution_count": 83,
     "metadata": {},
     "output_type": "execute_result"
    }
   ],
   "source": [
    "updated_group = apply_meta_func_on_group(group, split_string)\n",
    "updated_group"
   ]
  },
  {
   "cell_type": "code",
   "execution_count": 100,
   "metadata": {
    "collapsed": true
   },
   "outputs": [],
   "source": [
    "def get_select_combinations(group):\n",
    "    min_length = group[\"input\"].apply(len).min()\n",
    "    list_of_list = [list(itertools.combinations(range(min_length), k)) for k in range(1, min_length + 1)]\n",
    "    reverse_list_of_list = [list(itertools.combinations(np.linspace(-min_length, -1, min_length).astype(int), k)) for k in range(1, min_length + 1)]\n",
    "    select_list = list(itertools.chain.from_iterable(list_of_list + reverse_list_of_list))\n",
    "    func_str_list = [\"x = [x[i] for i in {}]\".format(selected) for selected in select_list if len(selected) <= 3]\n",
    "    return func_str_list"
   ]
  },
  {
   "cell_type": "code",
   "execution_count": 101,
   "metadata": {
    "collapsed": false
   },
   "outputs": [
    {
     "data": {
      "text/plain": [
       "['x = [x[i] for i in (0,)]',\n",
       " 'x = [x[i] for i in (1,)]',\n",
       " 'x = [x[i] for i in (2,)]',\n",
       " 'x = [x[i] for i in (0, 1)]',\n",
       " 'x = [x[i] for i in (0, 2)]',\n",
       " 'x = [x[i] for i in (1, 2)]',\n",
       " 'x = [x[i] for i in (0, 1, 2)]',\n",
       " 'x = [x[i] for i in (-3,)]',\n",
       " 'x = [x[i] for i in (-2,)]',\n",
       " 'x = [x[i] for i in (-1,)]',\n",
       " 'x = [x[i] for i in (-3, -2)]',\n",
       " 'x = [x[i] for i in (-3, -1)]',\n",
       " 'x = [x[i] for i in (-2, -1)]',\n",
       " 'x = [x[i] for i in (-3, -2, -1)]']"
      ]
     },
     "execution_count": 101,
     "metadata": {},
     "output_type": "execute_result"
    }
   ],
   "source": [
    "get_select_combinations(updated_group)"
   ]
  },
  {
   "cell_type": "code",
   "execution_count": 102,
   "metadata": {
    "collapsed": true
   },
   "outputs": [],
   "source": [
    "def apply_meta_func(input_output_data_frame, meta_func):\n",
    "    updated_input_output_data_frame = input_output_data_frame.groupby(\"program\").apply(apply_meta_func_on_group, meta_func).reset_index(drop=True)\n",
    "    return updated_input_output_data_frame"
   ]
  },
  {
   "cell_type": "code",
   "execution_count": 103,
   "metadata": {
    "collapsed": false
   },
   "outputs": [
    {
     "data": {
      "text/html": [
       "<div>\n",
       "<table border=\"1\" class=\"dataframe\">\n",
       "  <thead>\n",
       "    <tr style=\"text-align: right;\">\n",
       "      <th></th>\n",
       "      <th>input</th>\n",
       "      <th>output</th>\n",
       "      <th>program</th>\n",
       "    </tr>\n",
       "  </thead>\n",
       "  <tbody>\n",
       "    <tr>\n",
       "      <th>0</th>\n",
       "      <td>[aa, bb, cc]</td>\n",
       "      <td>bbmmccmmaa</td>\n",
       "      <td>\\nx = x.split(\" \")</td>\n",
       "    </tr>\n",
       "    <tr>\n",
       "      <th>1</th>\n",
       "      <td>[ll, dd, ff]</td>\n",
       "      <td>ddmmffmmll</td>\n",
       "      <td>\\nx = x.split(\" \")</td>\n",
       "    </tr>\n",
       "  </tbody>\n",
       "</table>\n",
       "</div>"
      ],
      "text/plain": [
       "          input      output             program\n",
       "0  [aa, bb, cc]  bbmmccmmaa  \\nx = x.split(\" \")\n",
       "1  [ll, dd, ff]  ddmmffmmll  \\nx = x.split(\" \")"
      ]
     },
     "execution_count": 103,
     "metadata": {},
     "output_type": "execute_result"
    }
   ],
   "source": [
    "updated_input_output_data_frame = apply_meta_func(input_output_data_frame, split_string)\n",
    "updated_input_output_data_frame"
   ]
  },
  {
   "cell_type": "code",
   "execution_count": 104,
   "metadata": {
    "collapsed": false
   },
   "outputs": [
    {
     "data": {
      "text/html": [
       "<div>\n",
       "<table border=\"1\" class=\"dataframe\">\n",
       "  <thead>\n",
       "    <tr style=\"text-align: right;\">\n",
       "      <th></th>\n",
       "      <th>input</th>\n",
       "      <th>output</th>\n",
       "      <th>program</th>\n",
       "    </tr>\n",
       "  </thead>\n",
       "  <tbody>\n",
       "    <tr>\n",
       "      <th>0</th>\n",
       "      <td>[aa]</td>\n",
       "      <td>bbmmccmmaa</td>\n",
       "      <td>\\nx = x.split(\" \")\\nx = [x[i] for i in (0,)]</td>\n",
       "    </tr>\n",
       "    <tr>\n",
       "      <th>1</th>\n",
       "      <td>[ll]</td>\n",
       "      <td>ddmmffmmll</td>\n",
       "      <td>\\nx = x.split(\" \")\\nx = [x[i] for i in (0,)]</td>\n",
       "    </tr>\n",
       "    <tr>\n",
       "      <th>2</th>\n",
       "      <td>[bb]</td>\n",
       "      <td>bbmmccmmaa</td>\n",
       "      <td>\\nx = x.split(\" \")\\nx = [x[i] for i in (1,)]</td>\n",
       "    </tr>\n",
       "    <tr>\n",
       "      <th>3</th>\n",
       "      <td>[dd]</td>\n",
       "      <td>ddmmffmmll</td>\n",
       "      <td>\\nx = x.split(\" \")\\nx = [x[i] for i in (1,)]</td>\n",
       "    </tr>\n",
       "    <tr>\n",
       "      <th>4</th>\n",
       "      <td>[cc]</td>\n",
       "      <td>bbmmccmmaa</td>\n",
       "      <td>\\nx = x.split(\" \")\\nx = [x[i] for i in (2,)]</td>\n",
       "    </tr>\n",
       "  </tbody>\n",
       "</table>\n",
       "</div>"
      ],
      "text/plain": [
       "  input      output                                       program\n",
       "0  [aa]  bbmmccmmaa  \\nx = x.split(\" \")\\nx = [x[i] for i in (0,)]\n",
       "1  [ll]  ddmmffmmll  \\nx = x.split(\" \")\\nx = [x[i] for i in (0,)]\n",
       "2  [bb]  bbmmccmmaa  \\nx = x.split(\" \")\\nx = [x[i] for i in (1,)]\n",
       "3  [dd]  ddmmffmmll  \\nx = x.split(\" \")\\nx = [x[i] for i in (1,)]\n",
       "4  [cc]  bbmmccmmaa  \\nx = x.split(\" \")\\nx = [x[i] for i in (2,)]"
      ]
     },
     "execution_count": 104,
     "metadata": {},
     "output_type": "execute_result"
    }
   ],
   "source": [
    "updated_input_output_data_frame_2 = apply_meta_func(updated_input_output_data_frame, get_select_combinations)\n",
    "updated_input_output_data_frame_2.head()"
   ]
  },
  {
   "cell_type": "code",
   "execution_count": 108,
   "metadata": {
    "collapsed": true
   },
   "outputs": [],
   "source": [
    "def get_permutations(group):\n",
    "    min_length = group[\"input\"].apply(len).min()\n",
    "    permutations_list = list(itertools.permutations(range(min_length)))\n",
    "    func_str_list = [\"x = [x[i] for i in {}]\".format(permutation) for permutation in permutations_list]\n",
    "    return func_str_list"
   ]
  },
  {
   "cell_type": "code",
   "execution_count": 109,
   "metadata": {
    "collapsed": false
   },
   "outputs": [
    {
     "data": {
      "text/html": [
       "<div>\n",
       "<table border=\"1\" class=\"dataframe\">\n",
       "  <thead>\n",
       "    <tr style=\"text-align: right;\">\n",
       "      <th></th>\n",
       "      <th>input</th>\n",
       "      <th>output</th>\n",
       "      <th>program</th>\n",
       "    </tr>\n",
       "  </thead>\n",
       "  <tbody>\n",
       "    <tr>\n",
       "      <th>0</th>\n",
       "      <td>[cc]</td>\n",
       "      <td>bbmmccmmaa</td>\n",
       "      <td>\\nx = x.split(\" \")\\nx = [x[i] for i in (-1,)]\\...</td>\n",
       "    </tr>\n",
       "    <tr>\n",
       "      <th>1</th>\n",
       "      <td>[ff]</td>\n",
       "      <td>ddmmffmmll</td>\n",
       "      <td>\\nx = x.split(\" \")\\nx = [x[i] for i in (-1,)]\\...</td>\n",
       "    </tr>\n",
       "    <tr>\n",
       "      <th>2</th>\n",
       "      <td>[bb, cc]</td>\n",
       "      <td>bbmmccmmaa</td>\n",
       "      <td>\\nx = x.split(\" \")\\nx = [x[i] for i in (-2, -1...</td>\n",
       "    </tr>\n",
       "    <tr>\n",
       "      <th>3</th>\n",
       "      <td>[dd, ff]</td>\n",
       "      <td>ddmmffmmll</td>\n",
       "      <td>\\nx = x.split(\" \")\\nx = [x[i] for i in (-2, -1...</td>\n",
       "    </tr>\n",
       "    <tr>\n",
       "      <th>4</th>\n",
       "      <td>[cc, bb]</td>\n",
       "      <td>bbmmccmmaa</td>\n",
       "      <td>\\nx = x.split(\" \")\\nx = [x[i] for i in (-2, -1...</td>\n",
       "    </tr>\n",
       "    <tr>\n",
       "      <th>5</th>\n",
       "      <td>[ff, dd]</td>\n",
       "      <td>ddmmffmmll</td>\n",
       "      <td>\\nx = x.split(\" \")\\nx = [x[i] for i in (-2, -1...</td>\n",
       "    </tr>\n",
       "    <tr>\n",
       "      <th>6</th>\n",
       "      <td>[bb]</td>\n",
       "      <td>bbmmccmmaa</td>\n",
       "      <td>\\nx = x.split(\" \")\\nx = [x[i] for i in (-2,)]\\...</td>\n",
       "    </tr>\n",
       "    <tr>\n",
       "      <th>7</th>\n",
       "      <td>[dd]</td>\n",
       "      <td>ddmmffmmll</td>\n",
       "      <td>\\nx = x.split(\" \")\\nx = [x[i] for i in (-2,)]\\...</td>\n",
       "    </tr>\n",
       "    <tr>\n",
       "      <th>8</th>\n",
       "      <td>[aa, cc]</td>\n",
       "      <td>bbmmccmmaa</td>\n",
       "      <td>\\nx = x.split(\" \")\\nx = [x[i] for i in (-3, -1...</td>\n",
       "    </tr>\n",
       "    <tr>\n",
       "      <th>9</th>\n",
       "      <td>[ll, ff]</td>\n",
       "      <td>ddmmffmmll</td>\n",
       "      <td>\\nx = x.split(\" \")\\nx = [x[i] for i in (-3, -1...</td>\n",
       "    </tr>\n",
       "    <tr>\n",
       "      <th>10</th>\n",
       "      <td>[cc, aa]</td>\n",
       "      <td>bbmmccmmaa</td>\n",
       "      <td>\\nx = x.split(\" \")\\nx = [x[i] for i in (-3, -1...</td>\n",
       "    </tr>\n",
       "    <tr>\n",
       "      <th>11</th>\n",
       "      <td>[ff, ll]</td>\n",
       "      <td>ddmmffmmll</td>\n",
       "      <td>\\nx = x.split(\" \")\\nx = [x[i] for i in (-3, -1...</td>\n",
       "    </tr>\n",
       "    <tr>\n",
       "      <th>12</th>\n",
       "      <td>[aa, bb]</td>\n",
       "      <td>bbmmccmmaa</td>\n",
       "      <td>\\nx = x.split(\" \")\\nx = [x[i] for i in (-3, -2...</td>\n",
       "    </tr>\n",
       "    <tr>\n",
       "      <th>13</th>\n",
       "      <td>[ll, dd]</td>\n",
       "      <td>ddmmffmmll</td>\n",
       "      <td>\\nx = x.split(\" \")\\nx = [x[i] for i in (-3, -2...</td>\n",
       "    </tr>\n",
       "    <tr>\n",
       "      <th>14</th>\n",
       "      <td>[bb, aa]</td>\n",
       "      <td>bbmmccmmaa</td>\n",
       "      <td>\\nx = x.split(\" \")\\nx = [x[i] for i in (-3, -2...</td>\n",
       "    </tr>\n",
       "    <tr>\n",
       "      <th>15</th>\n",
       "      <td>[dd, ll]</td>\n",
       "      <td>ddmmffmmll</td>\n",
       "      <td>\\nx = x.split(\" \")\\nx = [x[i] for i in (-3, -2...</td>\n",
       "    </tr>\n",
       "    <tr>\n",
       "      <th>16</th>\n",
       "      <td>[aa, bb, cc]</td>\n",
       "      <td>bbmmccmmaa</td>\n",
       "      <td>\\nx = x.split(\" \")\\nx = [x[i] for i in (-3, -2...</td>\n",
       "    </tr>\n",
       "    <tr>\n",
       "      <th>17</th>\n",
       "      <td>[ll, dd, ff]</td>\n",
       "      <td>ddmmffmmll</td>\n",
       "      <td>\\nx = x.split(\" \")\\nx = [x[i] for i in (-3, -2...</td>\n",
       "    </tr>\n",
       "    <tr>\n",
       "      <th>18</th>\n",
       "      <td>[aa, cc, bb]</td>\n",
       "      <td>bbmmccmmaa</td>\n",
       "      <td>\\nx = x.split(\" \")\\nx = [x[i] for i in (-3, -2...</td>\n",
       "    </tr>\n",
       "    <tr>\n",
       "      <th>19</th>\n",
       "      <td>[ll, ff, dd]</td>\n",
       "      <td>ddmmffmmll</td>\n",
       "      <td>\\nx = x.split(\" \")\\nx = [x[i] for i in (-3, -2...</td>\n",
       "    </tr>\n",
       "    <tr>\n",
       "      <th>20</th>\n",
       "      <td>[bb, aa, cc]</td>\n",
       "      <td>bbmmccmmaa</td>\n",
       "      <td>\\nx = x.split(\" \")\\nx = [x[i] for i in (-3, -2...</td>\n",
       "    </tr>\n",
       "    <tr>\n",
       "      <th>21</th>\n",
       "      <td>[dd, ll, ff]</td>\n",
       "      <td>ddmmffmmll</td>\n",
       "      <td>\\nx = x.split(\" \")\\nx = [x[i] for i in (-3, -2...</td>\n",
       "    </tr>\n",
       "    <tr>\n",
       "      <th>22</th>\n",
       "      <td>[bb, cc, aa]</td>\n",
       "      <td>bbmmccmmaa</td>\n",
       "      <td>\\nx = x.split(\" \")\\nx = [x[i] for i in (-3, -2...</td>\n",
       "    </tr>\n",
       "    <tr>\n",
       "      <th>23</th>\n",
       "      <td>[dd, ff, ll]</td>\n",
       "      <td>ddmmffmmll</td>\n",
       "      <td>\\nx = x.split(\" \")\\nx = [x[i] for i in (-3, -2...</td>\n",
       "    </tr>\n",
       "    <tr>\n",
       "      <th>24</th>\n",
       "      <td>[cc, aa, bb]</td>\n",
       "      <td>bbmmccmmaa</td>\n",
       "      <td>\\nx = x.split(\" \")\\nx = [x[i] for i in (-3, -2...</td>\n",
       "    </tr>\n",
       "    <tr>\n",
       "      <th>25</th>\n",
       "      <td>[ff, ll, dd]</td>\n",
       "      <td>ddmmffmmll</td>\n",
       "      <td>\\nx = x.split(\" \")\\nx = [x[i] for i in (-3, -2...</td>\n",
       "    </tr>\n",
       "    <tr>\n",
       "      <th>26</th>\n",
       "      <td>[cc, bb, aa]</td>\n",
       "      <td>bbmmccmmaa</td>\n",
       "      <td>\\nx = x.split(\" \")\\nx = [x[i] for i in (-3, -2...</td>\n",
       "    </tr>\n",
       "    <tr>\n",
       "      <th>27</th>\n",
       "      <td>[ff, dd, ll]</td>\n",
       "      <td>ddmmffmmll</td>\n",
       "      <td>\\nx = x.split(\" \")\\nx = [x[i] for i in (-3, -2...</td>\n",
       "    </tr>\n",
       "    <tr>\n",
       "      <th>28</th>\n",
       "      <td>[aa]</td>\n",
       "      <td>bbmmccmmaa</td>\n",
       "      <td>\\nx = x.split(\" \")\\nx = [x[i] for i in (-3,)]\\...</td>\n",
       "    </tr>\n",
       "    <tr>\n",
       "      <th>29</th>\n",
       "      <td>[ll]</td>\n",
       "      <td>ddmmffmmll</td>\n",
       "      <td>\\nx = x.split(\" \")\\nx = [x[i] for i in (-3,)]\\...</td>\n",
       "    </tr>\n",
       "    <tr>\n",
       "      <th>30</th>\n",
       "      <td>[aa, bb]</td>\n",
       "      <td>bbmmccmmaa</td>\n",
       "      <td>\\nx = x.split(\" \")\\nx = [x[i] for i in (0, 1)]...</td>\n",
       "    </tr>\n",
       "    <tr>\n",
       "      <th>31</th>\n",
       "      <td>[ll, dd]</td>\n",
       "      <td>ddmmffmmll</td>\n",
       "      <td>\\nx = x.split(\" \")\\nx = [x[i] for i in (0, 1)]...</td>\n",
       "    </tr>\n",
       "    <tr>\n",
       "      <th>32</th>\n",
       "      <td>[bb, aa]</td>\n",
       "      <td>bbmmccmmaa</td>\n",
       "      <td>\\nx = x.split(\" \")\\nx = [x[i] for i in (0, 1)]...</td>\n",
       "    </tr>\n",
       "    <tr>\n",
       "      <th>33</th>\n",
       "      <td>[dd, ll]</td>\n",
       "      <td>ddmmffmmll</td>\n",
       "      <td>\\nx = x.split(\" \")\\nx = [x[i] for i in (0, 1)]...</td>\n",
       "    </tr>\n",
       "    <tr>\n",
       "      <th>34</th>\n",
       "      <td>[aa, bb, cc]</td>\n",
       "      <td>bbmmccmmaa</td>\n",
       "      <td>\\nx = x.split(\" \")\\nx = [x[i] for i in (0, 1, ...</td>\n",
       "    </tr>\n",
       "    <tr>\n",
       "      <th>35</th>\n",
       "      <td>[ll, dd, ff]</td>\n",
       "      <td>ddmmffmmll</td>\n",
       "      <td>\\nx = x.split(\" \")\\nx = [x[i] for i in (0, 1, ...</td>\n",
       "    </tr>\n",
       "    <tr>\n",
       "      <th>36</th>\n",
       "      <td>[aa, cc, bb]</td>\n",
       "      <td>bbmmccmmaa</td>\n",
       "      <td>\\nx = x.split(\" \")\\nx = [x[i] for i in (0, 1, ...</td>\n",
       "    </tr>\n",
       "    <tr>\n",
       "      <th>37</th>\n",
       "      <td>[ll, ff, dd]</td>\n",
       "      <td>ddmmffmmll</td>\n",
       "      <td>\\nx = x.split(\" \")\\nx = [x[i] for i in (0, 1, ...</td>\n",
       "    </tr>\n",
       "    <tr>\n",
       "      <th>38</th>\n",
       "      <td>[bb, aa, cc]</td>\n",
       "      <td>bbmmccmmaa</td>\n",
       "      <td>\\nx = x.split(\" \")\\nx = [x[i] for i in (0, 1, ...</td>\n",
       "    </tr>\n",
       "    <tr>\n",
       "      <th>39</th>\n",
       "      <td>[dd, ll, ff]</td>\n",
       "      <td>ddmmffmmll</td>\n",
       "      <td>\\nx = x.split(\" \")\\nx = [x[i] for i in (0, 1, ...</td>\n",
       "    </tr>\n",
       "    <tr>\n",
       "      <th>40</th>\n",
       "      <td>[bb, cc, aa]</td>\n",
       "      <td>bbmmccmmaa</td>\n",
       "      <td>\\nx = x.split(\" \")\\nx = [x[i] for i in (0, 1, ...</td>\n",
       "    </tr>\n",
       "    <tr>\n",
       "      <th>41</th>\n",
       "      <td>[dd, ff, ll]</td>\n",
       "      <td>ddmmffmmll</td>\n",
       "      <td>\\nx = x.split(\" \")\\nx = [x[i] for i in (0, 1, ...</td>\n",
       "    </tr>\n",
       "    <tr>\n",
       "      <th>42</th>\n",
       "      <td>[cc, aa, bb]</td>\n",
       "      <td>bbmmccmmaa</td>\n",
       "      <td>\\nx = x.split(\" \")\\nx = [x[i] for i in (0, 1, ...</td>\n",
       "    </tr>\n",
       "    <tr>\n",
       "      <th>43</th>\n",
       "      <td>[ff, ll, dd]</td>\n",
       "      <td>ddmmffmmll</td>\n",
       "      <td>\\nx = x.split(\" \")\\nx = [x[i] for i in (0, 1, ...</td>\n",
       "    </tr>\n",
       "    <tr>\n",
       "      <th>44</th>\n",
       "      <td>[cc, bb, aa]</td>\n",
       "      <td>bbmmccmmaa</td>\n",
       "      <td>\\nx = x.split(\" \")\\nx = [x[i] for i in (0, 1, ...</td>\n",
       "    </tr>\n",
       "    <tr>\n",
       "      <th>45</th>\n",
       "      <td>[ff, dd, ll]</td>\n",
       "      <td>ddmmffmmll</td>\n",
       "      <td>\\nx = x.split(\" \")\\nx = [x[i] for i in (0, 1, ...</td>\n",
       "    </tr>\n",
       "    <tr>\n",
       "      <th>46</th>\n",
       "      <td>[aa, cc]</td>\n",
       "      <td>bbmmccmmaa</td>\n",
       "      <td>\\nx = x.split(\" \")\\nx = [x[i] for i in (0, 2)]...</td>\n",
       "    </tr>\n",
       "    <tr>\n",
       "      <th>47</th>\n",
       "      <td>[ll, ff]</td>\n",
       "      <td>ddmmffmmll</td>\n",
       "      <td>\\nx = x.split(\" \")\\nx = [x[i] for i in (0, 2)]...</td>\n",
       "    </tr>\n",
       "    <tr>\n",
       "      <th>48</th>\n",
       "      <td>[cc, aa]</td>\n",
       "      <td>bbmmccmmaa</td>\n",
       "      <td>\\nx = x.split(\" \")\\nx = [x[i] for i in (0, 2)]...</td>\n",
       "    </tr>\n",
       "    <tr>\n",
       "      <th>49</th>\n",
       "      <td>[ff, ll]</td>\n",
       "      <td>ddmmffmmll</td>\n",
       "      <td>\\nx = x.split(\" \")\\nx = [x[i] for i in (0, 2)]...</td>\n",
       "    </tr>\n",
       "    <tr>\n",
       "      <th>50</th>\n",
       "      <td>[aa]</td>\n",
       "      <td>bbmmccmmaa</td>\n",
       "      <td>\\nx = x.split(\" \")\\nx = [x[i] for i in (0,)]\\n...</td>\n",
       "    </tr>\n",
       "    <tr>\n",
       "      <th>51</th>\n",
       "      <td>[ll]</td>\n",
       "      <td>ddmmffmmll</td>\n",
       "      <td>\\nx = x.split(\" \")\\nx = [x[i] for i in (0,)]\\n...</td>\n",
       "    </tr>\n",
       "    <tr>\n",
       "      <th>52</th>\n",
       "      <td>[bb, cc]</td>\n",
       "      <td>bbmmccmmaa</td>\n",
       "      <td>\\nx = x.split(\" \")\\nx = [x[i] for i in (1, 2)]...</td>\n",
       "    </tr>\n",
       "    <tr>\n",
       "      <th>53</th>\n",
       "      <td>[dd, ff]</td>\n",
       "      <td>ddmmffmmll</td>\n",
       "      <td>\\nx = x.split(\" \")\\nx = [x[i] for i in (1, 2)]...</td>\n",
       "    </tr>\n",
       "    <tr>\n",
       "      <th>54</th>\n",
       "      <td>[cc, bb]</td>\n",
       "      <td>bbmmccmmaa</td>\n",
       "      <td>\\nx = x.split(\" \")\\nx = [x[i] for i in (1, 2)]...</td>\n",
       "    </tr>\n",
       "    <tr>\n",
       "      <th>55</th>\n",
       "      <td>[ff, dd]</td>\n",
       "      <td>ddmmffmmll</td>\n",
       "      <td>\\nx = x.split(\" \")\\nx = [x[i] for i in (1, 2)]...</td>\n",
       "    </tr>\n",
       "    <tr>\n",
       "      <th>56</th>\n",
       "      <td>[bb]</td>\n",
       "      <td>bbmmccmmaa</td>\n",
       "      <td>\\nx = x.split(\" \")\\nx = [x[i] for i in (1,)]\\n...</td>\n",
       "    </tr>\n",
       "    <tr>\n",
       "      <th>57</th>\n",
       "      <td>[dd]</td>\n",
       "      <td>ddmmffmmll</td>\n",
       "      <td>\\nx = x.split(\" \")\\nx = [x[i] for i in (1,)]\\n...</td>\n",
       "    </tr>\n",
       "    <tr>\n",
       "      <th>58</th>\n",
       "      <td>[cc]</td>\n",
       "      <td>bbmmccmmaa</td>\n",
       "      <td>\\nx = x.split(\" \")\\nx = [x[i] for i in (2,)]\\n...</td>\n",
       "    </tr>\n",
       "    <tr>\n",
       "      <th>59</th>\n",
       "      <td>[ff]</td>\n",
       "      <td>ddmmffmmll</td>\n",
       "      <td>\\nx = x.split(\" \")\\nx = [x[i] for i in (2,)]\\n...</td>\n",
       "    </tr>\n",
       "  </tbody>\n",
       "</table>\n",
       "</div>"
      ],
      "text/plain": [
       "           input      output  \\\n",
       "0           [cc]  bbmmccmmaa   \n",
       "1           [ff]  ddmmffmmll   \n",
       "2       [bb, cc]  bbmmccmmaa   \n",
       "3       [dd, ff]  ddmmffmmll   \n",
       "4       [cc, bb]  bbmmccmmaa   \n",
       "5       [ff, dd]  ddmmffmmll   \n",
       "6           [bb]  bbmmccmmaa   \n",
       "7           [dd]  ddmmffmmll   \n",
       "8       [aa, cc]  bbmmccmmaa   \n",
       "9       [ll, ff]  ddmmffmmll   \n",
       "10      [cc, aa]  bbmmccmmaa   \n",
       "11      [ff, ll]  ddmmffmmll   \n",
       "12      [aa, bb]  bbmmccmmaa   \n",
       "13      [ll, dd]  ddmmffmmll   \n",
       "14      [bb, aa]  bbmmccmmaa   \n",
       "15      [dd, ll]  ddmmffmmll   \n",
       "16  [aa, bb, cc]  bbmmccmmaa   \n",
       "17  [ll, dd, ff]  ddmmffmmll   \n",
       "18  [aa, cc, bb]  bbmmccmmaa   \n",
       "19  [ll, ff, dd]  ddmmffmmll   \n",
       "20  [bb, aa, cc]  bbmmccmmaa   \n",
       "21  [dd, ll, ff]  ddmmffmmll   \n",
       "22  [bb, cc, aa]  bbmmccmmaa   \n",
       "23  [dd, ff, ll]  ddmmffmmll   \n",
       "24  [cc, aa, bb]  bbmmccmmaa   \n",
       "25  [ff, ll, dd]  ddmmffmmll   \n",
       "26  [cc, bb, aa]  bbmmccmmaa   \n",
       "27  [ff, dd, ll]  ddmmffmmll   \n",
       "28          [aa]  bbmmccmmaa   \n",
       "29          [ll]  ddmmffmmll   \n",
       "30      [aa, bb]  bbmmccmmaa   \n",
       "31      [ll, dd]  ddmmffmmll   \n",
       "32      [bb, aa]  bbmmccmmaa   \n",
       "33      [dd, ll]  ddmmffmmll   \n",
       "34  [aa, bb, cc]  bbmmccmmaa   \n",
       "35  [ll, dd, ff]  ddmmffmmll   \n",
       "36  [aa, cc, bb]  bbmmccmmaa   \n",
       "37  [ll, ff, dd]  ddmmffmmll   \n",
       "38  [bb, aa, cc]  bbmmccmmaa   \n",
       "39  [dd, ll, ff]  ddmmffmmll   \n",
       "40  [bb, cc, aa]  bbmmccmmaa   \n",
       "41  [dd, ff, ll]  ddmmffmmll   \n",
       "42  [cc, aa, bb]  bbmmccmmaa   \n",
       "43  [ff, ll, dd]  ddmmffmmll   \n",
       "44  [cc, bb, aa]  bbmmccmmaa   \n",
       "45  [ff, dd, ll]  ddmmffmmll   \n",
       "46      [aa, cc]  bbmmccmmaa   \n",
       "47      [ll, ff]  ddmmffmmll   \n",
       "48      [cc, aa]  bbmmccmmaa   \n",
       "49      [ff, ll]  ddmmffmmll   \n",
       "50          [aa]  bbmmccmmaa   \n",
       "51          [ll]  ddmmffmmll   \n",
       "52      [bb, cc]  bbmmccmmaa   \n",
       "53      [dd, ff]  ddmmffmmll   \n",
       "54      [cc, bb]  bbmmccmmaa   \n",
       "55      [ff, dd]  ddmmffmmll   \n",
       "56          [bb]  bbmmccmmaa   \n",
       "57          [dd]  ddmmffmmll   \n",
       "58          [cc]  bbmmccmmaa   \n",
       "59          [ff]  ddmmffmmll   \n",
       "\n",
       "                                              program  \n",
       "0   \\nx = x.split(\" \")\\nx = [x[i] for i in (-1,)]\\...  \n",
       "1   \\nx = x.split(\" \")\\nx = [x[i] for i in (-1,)]\\...  \n",
       "2   \\nx = x.split(\" \")\\nx = [x[i] for i in (-2, -1...  \n",
       "3   \\nx = x.split(\" \")\\nx = [x[i] for i in (-2, -1...  \n",
       "4   \\nx = x.split(\" \")\\nx = [x[i] for i in (-2, -1...  \n",
       "5   \\nx = x.split(\" \")\\nx = [x[i] for i in (-2, -1...  \n",
       "6   \\nx = x.split(\" \")\\nx = [x[i] for i in (-2,)]\\...  \n",
       "7   \\nx = x.split(\" \")\\nx = [x[i] for i in (-2,)]\\...  \n",
       "8   \\nx = x.split(\" \")\\nx = [x[i] for i in (-3, -1...  \n",
       "9   \\nx = x.split(\" \")\\nx = [x[i] for i in (-3, -1...  \n",
       "10  \\nx = x.split(\" \")\\nx = [x[i] for i in (-3, -1...  \n",
       "11  \\nx = x.split(\" \")\\nx = [x[i] for i in (-3, -1...  \n",
       "12  \\nx = x.split(\" \")\\nx = [x[i] for i in (-3, -2...  \n",
       "13  \\nx = x.split(\" \")\\nx = [x[i] for i in (-3, -2...  \n",
       "14  \\nx = x.split(\" \")\\nx = [x[i] for i in (-3, -2...  \n",
       "15  \\nx = x.split(\" \")\\nx = [x[i] for i in (-3, -2...  \n",
       "16  \\nx = x.split(\" \")\\nx = [x[i] for i in (-3, -2...  \n",
       "17  \\nx = x.split(\" \")\\nx = [x[i] for i in (-3, -2...  \n",
       "18  \\nx = x.split(\" \")\\nx = [x[i] for i in (-3, -2...  \n",
       "19  \\nx = x.split(\" \")\\nx = [x[i] for i in (-3, -2...  \n",
       "20  \\nx = x.split(\" \")\\nx = [x[i] for i in (-3, -2...  \n",
       "21  \\nx = x.split(\" \")\\nx = [x[i] for i in (-3, -2...  \n",
       "22  \\nx = x.split(\" \")\\nx = [x[i] for i in (-3, -2...  \n",
       "23  \\nx = x.split(\" \")\\nx = [x[i] for i in (-3, -2...  \n",
       "24  \\nx = x.split(\" \")\\nx = [x[i] for i in (-3, -2...  \n",
       "25  \\nx = x.split(\" \")\\nx = [x[i] for i in (-3, -2...  \n",
       "26  \\nx = x.split(\" \")\\nx = [x[i] for i in (-3, -2...  \n",
       "27  \\nx = x.split(\" \")\\nx = [x[i] for i in (-3, -2...  \n",
       "28  \\nx = x.split(\" \")\\nx = [x[i] for i in (-3,)]\\...  \n",
       "29  \\nx = x.split(\" \")\\nx = [x[i] for i in (-3,)]\\...  \n",
       "30  \\nx = x.split(\" \")\\nx = [x[i] for i in (0, 1)]...  \n",
       "31  \\nx = x.split(\" \")\\nx = [x[i] for i in (0, 1)]...  \n",
       "32  \\nx = x.split(\" \")\\nx = [x[i] for i in (0, 1)]...  \n",
       "33  \\nx = x.split(\" \")\\nx = [x[i] for i in (0, 1)]...  \n",
       "34  \\nx = x.split(\" \")\\nx = [x[i] for i in (0, 1, ...  \n",
       "35  \\nx = x.split(\" \")\\nx = [x[i] for i in (0, 1, ...  \n",
       "36  \\nx = x.split(\" \")\\nx = [x[i] for i in (0, 1, ...  \n",
       "37  \\nx = x.split(\" \")\\nx = [x[i] for i in (0, 1, ...  \n",
       "38  \\nx = x.split(\" \")\\nx = [x[i] for i in (0, 1, ...  \n",
       "39  \\nx = x.split(\" \")\\nx = [x[i] for i in (0, 1, ...  \n",
       "40  \\nx = x.split(\" \")\\nx = [x[i] for i in (0, 1, ...  \n",
       "41  \\nx = x.split(\" \")\\nx = [x[i] for i in (0, 1, ...  \n",
       "42  \\nx = x.split(\" \")\\nx = [x[i] for i in (0, 1, ...  \n",
       "43  \\nx = x.split(\" \")\\nx = [x[i] for i in (0, 1, ...  \n",
       "44  \\nx = x.split(\" \")\\nx = [x[i] for i in (0, 1, ...  \n",
       "45  \\nx = x.split(\" \")\\nx = [x[i] for i in (0, 1, ...  \n",
       "46  \\nx = x.split(\" \")\\nx = [x[i] for i in (0, 2)]...  \n",
       "47  \\nx = x.split(\" \")\\nx = [x[i] for i in (0, 2)]...  \n",
       "48  \\nx = x.split(\" \")\\nx = [x[i] for i in (0, 2)]...  \n",
       "49  \\nx = x.split(\" \")\\nx = [x[i] for i in (0, 2)]...  \n",
       "50  \\nx = x.split(\" \")\\nx = [x[i] for i in (0,)]\\n...  \n",
       "51  \\nx = x.split(\" \")\\nx = [x[i] for i in (0,)]\\n...  \n",
       "52  \\nx = x.split(\" \")\\nx = [x[i] for i in (1, 2)]...  \n",
       "53  \\nx = x.split(\" \")\\nx = [x[i] for i in (1, 2)]...  \n",
       "54  \\nx = x.split(\" \")\\nx = [x[i] for i in (1, 2)]...  \n",
       "55  \\nx = x.split(\" \")\\nx = [x[i] for i in (1, 2)]...  \n",
       "56  \\nx = x.split(\" \")\\nx = [x[i] for i in (1,)]\\n...  \n",
       "57  \\nx = x.split(\" \")\\nx = [x[i] for i in (1,)]\\n...  \n",
       "58  \\nx = x.split(\" \")\\nx = [x[i] for i in (2,)]\\n...  \n",
       "59  \\nx = x.split(\" \")\\nx = [x[i] for i in (2,)]\\n...  "
      ]
     },
     "execution_count": 109,
     "metadata": {},
     "output_type": "execute_result"
    }
   ],
   "source": [
    "updated_input_output_data_frame_3 = apply_meta_func(updated_input_output_data_frame_2, get_permutations)\n",
    "updated_input_output_data_frame_3"
   ]
  },
  {
   "cell_type": "code",
   "execution_count": null,
   "metadata": {
    "collapsed": true
   },
   "outputs": [],
   "source": []
  }
 ],
 "metadata": {
  "kernelspec": {
   "display_name": "Python 3",
   "language": "python",
   "name": "python3"
  },
  "language_info": {
   "codemirror_mode": {
    "name": "ipython",
    "version": 3
   },
   "file_extension": ".py",
   "mimetype": "text/x-python",
   "name": "python",
   "nbconvert_exporter": "python",
   "pygments_lexer": "ipython3",
   "version": "3.6.0"
  }
 },
 "nbformat": 4,
 "nbformat_minor": 2
}
