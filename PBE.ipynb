{
 "cells": [
  {
   "cell_type": "code",
   "execution_count": 1,
   "metadata": {
    "collapsed": true
   },
   "outputs": [],
   "source": [
    "import itertools\n",
    "import pandas as pd\n",
    "import numpy as np"
   ]
  },
  {
   "cell_type": "code",
   "execution_count": null,
   "metadata": {
    "collapsed": true
   },
   "outputs": [],
   "source": [
    "def get_all_substrings(input_string):\n",
    "  length = len(input_string)\n",
    "  return set([input_string[i:j+1] for i in range(length) for j in range(i,length)])"
   ]
  },
  {
   "cell_type": "code",
   "execution_count": null,
   "metadata": {
    "collapsed": true
   },
   "outputs": [],
   "source": [
    "def split_string(a_string):\n",
    "    return [\"x = x.split(\\\"{}\\\")\".format(sep) for sep in get_all_substrings(a_string) if len(sep) <= 2]"
   ]
  },
  {
   "cell_type": "code",
   "execution_count": null,
   "metadata": {
    "collapsed": false
   },
   "outputs": [],
   "source": [
    "split_string(\"abc d\")"
   ]
  },
  {
   "cell_type": "code",
   "execution_count": null,
   "metadata": {
    "collapsed": true
   },
   "outputs": [],
   "source": [
    "def get_select_combinations(a_list):\n",
    "    list_of_list = [list(itertools.combinations(range(len(a_list)), k)) for k in range(1, len(a_list) + 1)]\n",
    "    reverse_list_of_list = [list(itertools.combinations(np.linspace(-len(a_list), -1, len(a_list)).astype(int), k)) for k in range(1, len(a_list) + 1)]\n",
    "    select_list = list(itertools.chain.from_iterable(list_of_list + reverse_list_of_list))\n",
    "    func_str_list = [\"x = [x[i] for i in {}]\".format(selected) for selected in select_list if len(selected) <= 3]\n",
    "    return func_str_list"
   ]
  },
  {
   "cell_type": "code",
   "execution_count": null,
   "metadata": {
    "collapsed": false
   },
   "outputs": [],
   "source": [
    "get_select_combinations([\"a\", \"c\", \"b\"])"
   ]
  },
  {
   "cell_type": "code",
   "execution_count": null,
   "metadata": {
    "collapsed": true
   },
   "outputs": [],
   "source": [
    "def get_permutations(a_list):\n",
    "    permutations_list = list(itertools.permutations(range(len(a_list))))\n",
    "    func_str_list = [\"x = [x[i] for i in {}]\".format(permutation) for permutation in permutations_list]\n",
    "    return func_str_list"
   ]
  },
  {
   "cell_type": "code",
   "execution_count": null,
   "metadata": {
    "collapsed": false
   },
   "outputs": [],
   "source": [
    "get_permutations([\"a\", \"c\", \"b\"])"
   ]
  },
  {
   "cell_type": "code",
   "execution_count": null,
   "metadata": {
    "collapsed": true
   },
   "outputs": [],
   "source": [
    "def join_list_to_string(a_list, output_string):\n",
    "    return [\"x = \\\"{}\\\".join(x)\".format(sep) for sep in list(get_all_substrings(output_string)) + [\"\"] if len(sep) <= 2]"
   ]
  },
  {
   "cell_type": "code",
   "execution_count": null,
   "metadata": {
    "collapsed": false
   },
   "outputs": [],
   "source": [
    "join_list_to_string([\"a\", \"c\", \"b\"], \"abds\")"
   ]
  },
  {
   "cell_type": "code",
   "execution_count": null,
   "metadata": {
    "collapsed": true
   },
   "outputs": [],
   "source": [
    "def apply_meta_func(input_obj, func):\n",
    "    func_list = func(input_obj)\n",
    "    def apply_func(func):\n",
    "        d = {\"x\": input_obj}\n",
    "        exec(func, d)\n",
    "        return d[\"x\"]\n",
    "    obj_list = list(map(apply_func, func_list))\n",
    "    return func_list, obj_list "
   ]
  },
  {
   "cell_type": "code",
   "execution_count": null,
   "metadata": {
    "collapsed": true
   },
   "outputs": [],
   "source": [
    "def apply_meta_func_on_group(group, meta_func):\n",
    "    input_obj = group.iloc[0][\"obj\"]\n",
    "    func_str = group.iloc[0][\"func_str\"]\n",
    "    func_list, obj_list = apply_meta_func(input_obj, meta_func)\n",
    "    output_data_frame = pd.DataFrame([obj_list, func_list]).T\n",
    "    output_data_frame.columns = [\"obj\", \"func_str\"]\n",
    "    func_str += \"\\n\" + output_data_frame[\"func_str\"]\n",
    "    output_data_frame[\"func_str\"] = func_str    \n",
    "    return output_data_frame"
   ]
  },
  {
   "cell_type": "code",
   "execution_count": null,
   "metadata": {
    "collapsed": true
   },
   "outputs": [],
   "source": [
    "def apply_func_on_input_output_example(row, input_string, output_string):\n",
    "    func_str = row\n",
    "    d = {\"x\": input_string}\n",
    "    try:\n",
    "        exec(func_str, d)\n",
    "        return d[\"x\"] == output_string\n",
    "    except:\n",
    "        return False"
   ]
  },
  {
   "cell_type": "code",
   "execution_count": null,
   "metadata": {
    "collapsed": true
   },
   "outputs": [],
   "source": [
    "def code(input_output_examples_list, is_log=False):\n",
    "    input_string = input_output_examples_list[0][0]\n",
    "    output_string = input_output_examples_list[0][1]\n",
    "    input_obj_list = [input_string]\n",
    "    input_func_str_list = [\"\"]\n",
    "    func_data_frame = pd.DataFrame([input_obj_list, input_func_str_list]).T\n",
    "    func_data_frame.columns = [\"obj\", \"func_str\"]\n",
    "    \n",
    "    join_list_to_string_with_output = lambda a_list: join_list_to_string(a_list, output_string)\n",
    "    \n",
    "    if is_log:\n",
    "        meta_func_list = [split_string, get_select_combinations, join_list_to_string_with_output]\n",
    "    else:\n",
    "        meta_func_list = [split_string, get_select_combinations, get_permutations, join_list_to_string_with_output]    \n",
    "    \n",
    "    for meta_func in meta_func_list:\n",
    "        func_data_frame = func_data_frame.groupby([\"func_str\"]).apply(apply_meta_func_on_group, meta_func)\n",
    "        func_data_frame.reset_index(drop=True, inplace=True)\n",
    "        \n",
    "    print(\"total number of functions: {}\".format(len(func_data_frame)))\n",
    "        \n",
    "    possible_code_series = func_data_frame[func_data_frame.obj == output_string][\"func_str\"]\n",
    "    \n",
    "    for input_output_example in input_output_examples_list[1:]:\n",
    "        is_good_func_series = possible_code_series.apply(apply_func_on_input_output_example, args=(input_output_example))\n",
    "        possible_code_series = possible_code_series[is_good_func_series]\n",
    "        \n",
    "    return possible_code_series"
   ]
  },
  {
   "cell_type": "code",
   "execution_count": null,
   "metadata": {
    "collapsed": false
   },
   "outputs": [],
   "source": [
    "input_output_examples_list = [(\"aa bb cc\", \"bbmmccmmaa\"), (\"ll dd ff\", \"ddmmffmmll\")]\n",
    "possible_code_series = code(input_output_examples_list)\n",
    "possible_code_series.apply(print)"
   ]
  },
  {
   "cell_type": "code",
   "execution_count": null,
   "metadata": {
    "collapsed": false
   },
   "outputs": [],
   "source": [
    "input_output_examples_list = [(\"ffllnn\", \"nnff\"), (\"kkllmm\", \"mmkk\")]\n",
    "possible_code_series = code(input_output_examples_list)\n",
    "possible_code_series.apply(print)"
   ]
  },
  {
   "cell_type": "markdown",
   "metadata": {
    "collapsed": true
   },
   "source": [
    "# logs"
   ]
  },
  {
   "cell_type": "code",
   "execution_count": null,
   "metadata": {
    "collapsed": true
   },
   "outputs": [],
   "source": [
    "\n",
    "# file_path = r\".\\log_example.txt\""
   ]
  },
  {
   "cell_type": "code",
   "execution_count": null,
   "metadata": {
    "collapsed": true
   },
   "outputs": [],
   "source": []
  },
  {
   "cell_type": "code",
   "execution_count": null,
   "metadata": {
    "collapsed": true
   },
   "outputs": [],
   "source": [
    "def get_max_length_common_string(string_1, string_2):\n",
    "    union_list = [substring for substring in get_all_substrings(string_1) if substring in string_2]\n",
    "    common_string = union_list[pd.Series(union_list).apply(len).argmax()]\n",
    "    return common_string"
   ]
  },
  {
   "cell_type": "code",
   "execution_count": null,
   "metadata": {
    "collapsed": true
   },
   "outputs": [],
   "source": [
    "def get_info_from_log(log_lines, output_strings_list):\n",
    "    log_lines = [line.replace(\"\\n\", \"\") for line in log_lines]\n",
    "    interesting_lines = []\n",
    "    for line in log_lines:\n",
    "        for output_string in output_strings_list:\n",
    "            if output_string in line:        \n",
    "                interesting_lines.append((line, output_string))\n",
    "                \n",
    "    common_string = get_max_length_common_string(interesting_lines[0][0], interesting_lines[1][0])\n",
    "    \n",
    "    common_string_no_numeric_trail = common_string[:(-pd.Series(list(common_string)).str.isnumeric().values[::-1].argmin())]\n",
    "    \n",
    "    input_output_examples_list = interesting_lines\n",
    "    possible_code_series = code(input_output_examples_list, True)\n",
    "    \n",
    "    possible_code_series.apply(print)\n",
    "    \n",
    "    inner_func = \"\\n\".join([\"\\t\" + line for line in possible_code_series.iloc[0].split(\"\\n\") if line != \"\"] )\n",
    "    \n",
    "    output_list = []\n",
    "    for line in log_lines:\n",
    "        if common_string_no_numeric_trail in line:\n",
    "            d = {\"x\": line}\n",
    "            exec(possible_code_series.iloc[0], d)            \n",
    "            output_list.append(d[\"x\"])\n",
    "            \n",
    "    func = \"\"\"\n",
    "output_list = []\n",
    "for line in log_lines:\n",
    "    if \\\"{}\\\" in line:\n",
    "        x = line\n",
    "{}\n",
    "        output_list.append(x)\n",
    "\"\"\".format(common_string_no_numeric_trail, inner_func)\n",
    "    \n",
    "    return output_list, func"
   ]
  },
  {
   "cell_type": "code",
   "execution_count": null,
   "metadata": {
    "collapsed": false
   },
   "outputs": [],
   "source": [
    "file_path = r\".\\log_example.txt\"\n",
    "log_lines = open(file_path, \"r\").readlines()\n",
    "log_lines"
   ]
  },
  {
   "cell_type": "code",
   "execution_count": null,
   "metadata": {
    "collapsed": false
   },
   "outputs": [],
   "source": [
    "output_strings_list = [\"port 40009\", \"port 48849\"]\n",
    "\n",
    "output_list, func = get_info_from_log(log_lines, output_strings_list)\n",
    "\n",
    "display(output_list)\n",
    "print(func)"
   ]
  },
  {
   "cell_type": "code",
   "execution_count": null,
   "metadata": {
    "collapsed": true
   },
   "outputs": [],
   "source": []
  }
 ],
 "metadata": {
  "kernelspec": {
   "display_name": "Python 3",
   "language": "python",
   "name": "python3"
  },
  "language_info": {
   "codemirror_mode": {
    "name": "ipython",
    "version": 3
   },
   "file_extension": ".py",
   "mimetype": "text/x-python",
   "name": "python",
   "nbconvert_exporter": "python",
   "pygments_lexer": "ipython3",
   "version": "3.6.0"
  }
 },
 "nbformat": 4,
 "nbformat_minor": 2
}
