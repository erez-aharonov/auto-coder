{
 "cells": [
  {
   "cell_type": "code",
   "execution_count": 1,
   "metadata": {
    "collapsed": true
   },
   "outputs": [],
   "source": [
    "import itertools\n",
    "import pandas as pd"
   ]
  },
  {
   "cell_type": "code",
   "execution_count": 2,
   "metadata": {
    "collapsed": true
   },
   "outputs": [],
   "source": [
    "def get_all_substrings(input_string):\n",
    "  length = len(input_string)\n",
    "  return set([input_string[i:j+1] for i in range(length) for j in range(i,length)])"
   ]
  },
  {
   "cell_type": "code",
   "execution_count": 3,
   "metadata": {
    "collapsed": true
   },
   "outputs": [],
   "source": [
    "def split_string(a_string):\n",
    "    return [\"x = x.split(\\\"{}\\\")\".format(sep) for sep in get_all_substrings(a_string)]"
   ]
  },
  {
   "cell_type": "code",
   "execution_count": 4,
   "metadata": {},
   "outputs": [
    {
     "data": {
      "text/plain": [
       "['x = x.split(\"abc \")',\n",
       " 'x = x.split(\"bc \")',\n",
       " 'x = x.split(\"c \")',\n",
       " 'x = x.split(\"ab\")',\n",
       " 'x = x.split(\"c\")',\n",
       " 'x = x.split(\"c d\")',\n",
       " 'x = x.split(\"abc d\")',\n",
       " 'x = x.split(\" \")',\n",
       " 'x = x.split(\"b\")',\n",
       " 'x = x.split(\" d\")',\n",
       " 'x = x.split(\"d\")',\n",
       " 'x = x.split(\"abc\")',\n",
       " 'x = x.split(\"bc\")',\n",
       " 'x = x.split(\"bc d\")',\n",
       " 'x = x.split(\"a\")']"
      ]
     },
     "execution_count": 4,
     "metadata": {},
     "output_type": "execute_result"
    }
   ],
   "source": [
    "split_string(\"abc d\")"
   ]
  },
  {
   "cell_type": "code",
   "execution_count": 5,
   "metadata": {
    "collapsed": true
   },
   "outputs": [],
   "source": [
    "def get_select_combinations(a_list):\n",
    "    list_of_list = [list(itertools.combinations(range(len(a_list)), k)) for k in range(1, len(a_list) + 1)]\n",
    "    select_list = list(itertools.chain.from_iterable(list_of_list))\n",
    "    func_str_list = [\"x = [x[i] for i in {}]\".format(selected) for selected in select_list]\n",
    "    return func_str_list"
   ]
  },
  {
   "cell_type": "code",
   "execution_count": 6,
   "metadata": {},
   "outputs": [
    {
     "data": {
      "text/plain": [
       "['x = [x[i] for i in (0,)]',\n",
       " 'x = [x[i] for i in (1,)]',\n",
       " 'x = [x[i] for i in (2,)]',\n",
       " 'x = [x[i] for i in (0, 1)]',\n",
       " 'x = [x[i] for i in (0, 2)]',\n",
       " 'x = [x[i] for i in (1, 2)]',\n",
       " 'x = [x[i] for i in (0, 1, 2)]']"
      ]
     },
     "execution_count": 6,
     "metadata": {},
     "output_type": "execute_result"
    }
   ],
   "source": [
    "get_select_combinations([\"a\", \"c\", \"b\"])"
   ]
  },
  {
   "cell_type": "code",
   "execution_count": 7,
   "metadata": {
    "collapsed": true
   },
   "outputs": [],
   "source": [
    "def get_permutations(a_list):\n",
    "    permutations_list = list(itertools.permutations(range(len(a_list))))\n",
    "    func_str_list = [\"x = [x[i] for i in {}]\".format(permutation) for permutation in permutations_list]\n",
    "    return func_str_list"
   ]
  },
  {
   "cell_type": "code",
   "execution_count": 8,
   "metadata": {},
   "outputs": [
    {
     "data": {
      "text/plain": [
       "['x = [x[i] for i in (0, 1, 2)]',\n",
       " 'x = [x[i] for i in (0, 2, 1)]',\n",
       " 'x = [x[i] for i in (1, 0, 2)]',\n",
       " 'x = [x[i] for i in (1, 2, 0)]',\n",
       " 'x = [x[i] for i in (2, 0, 1)]',\n",
       " 'x = [x[i] for i in (2, 1, 0)]']"
      ]
     },
     "execution_count": 8,
     "metadata": {},
     "output_type": "execute_result"
    }
   ],
   "source": [
    "get_permutations([\"a\", \"c\", \"b\"])"
   ]
  },
  {
   "cell_type": "code",
   "execution_count": 9,
   "metadata": {
    "collapsed": true
   },
   "outputs": [],
   "source": [
    "def join_list_to_string(a_list, output_string):\n",
    "    return [\"x = \\\"{}\\\".join(x)\".format(sep) for sep in get_all_substrings(output_string)]"
   ]
  },
  {
   "cell_type": "code",
   "execution_count": 10,
   "metadata": {},
   "outputs": [
    {
     "data": {
      "text/plain": [
       "['x = \"abds\".join(x)',\n",
       " 'x = \"ds\".join(x)',\n",
       " 'x = \"s\".join(x)',\n",
       " 'x = \"bd\".join(x)',\n",
       " 'x = \"ab\".join(x)',\n",
       " 'x = \"b\".join(x)',\n",
       " 'x = \"d\".join(x)',\n",
       " 'x = \"bds\".join(x)',\n",
       " 'x = \"abd\".join(x)',\n",
       " 'x = \"a\".join(x)']"
      ]
     },
     "execution_count": 10,
     "metadata": {},
     "output_type": "execute_result"
    }
   ],
   "source": [
    "join_list_to_string([\"a\", \"c\", \"b\"], \"abds\")"
   ]
  },
  {
   "cell_type": "code",
   "execution_count": 11,
   "metadata": {
    "collapsed": true
   },
   "outputs": [],
   "source": [
    "def apply_meta_func(input_obj, func):\n",
    "    func_list = func(input_obj)\n",
    "    def apply_func(func):\n",
    "        d = {\"x\": input_obj}\n",
    "        exec(func, d)\n",
    "        return d[\"x\"]\n",
    "    obj_list = list(map(apply_func, func_list))\n",
    "    return func_list, obj_list "
   ]
  },
  {
   "cell_type": "code",
   "execution_count": 12,
   "metadata": {
    "collapsed": true
   },
   "outputs": [],
   "source": [
    "def apply_meta_func_on_group(group, meta_func):\n",
    "    input_obj = group.iloc[0][\"obj\"]\n",
    "    func_str = group.iloc[0][\"func_str\"]\n",
    "    func_list, obj_list = apply_meta_func(input_obj, meta_func)\n",
    "    output_data_frame = pd.DataFrame([obj_list, func_list]).T\n",
    "    output_data_frame.columns = [\"obj\", \"func_str\"]\n",
    "    func_str += \"\\n\" + output_data_frame[\"func_str\"]\n",
    "    output_data_frame[\"func_str\"] = func_str    \n",
    "    return output_data_frame"
   ]
  },
  {
   "cell_type": "code",
   "execution_count": 41,
   "metadata": {
    "collapsed": true
   },
   "outputs": [],
   "source": [
    "def apply_func_on_input_output_example(row, input_string, output_string):\n",
    "    func_str = row\n",
    "    d = {\"x\": input_string}\n",
    "    try:\n",
    "        exec(func_str, d)\n",
    "        return d[\"x\"] == output_string\n",
    "    except:\n",
    "        return False"
   ]
  },
  {
   "cell_type": "code",
   "execution_count": 46,
   "metadata": {},
   "outputs": [],
   "source": [
    "def code(input_output_examples_list):\n",
    "    input_string = input_output_examples_list[0][0]\n",
    "    output_string = input_output_examples_list[0][1]\n",
    "    input_obj_list = [input_string]\n",
    "    input_func_str_list = [\"\"]\n",
    "    func_data_frame = pd.DataFrame([input_obj_list, input_func_str_list]).T\n",
    "    func_data_frame.columns = [\"obj\", \"func_str\"]\n",
    "    \n",
    "    join_list_to_string_with_output = lambda a_list: join_list_to_string(a_list, output_string)\n",
    "    meta_func_list = [split_string, get_select_combinations, get_permutations, join_list_to_string_with_output]\n",
    "    \n",
    "    for meta_func in meta_func_list:\n",
    "        func_data_frame = func_data_frame.groupby([\"func_str\"]).apply(apply_meta_func_on_group, meta_func)\n",
    "        func_data_frame.reset_index(drop=True, inplace=True)\n",
    "        \n",
    "    print(\"total number of functions: {}\".format(len(func_data_frame)))\n",
    "        \n",
    "    possible_code_series = func_data_frame[func_data_frame.obj == output_string][\"func_str\"]\n",
    "    \n",
    "    for input_output_example in input_output_examples_list[1:]:\n",
    "        is_good_func_series = possible_code_series.apply(apply_func_on_input_output_example, args=(input_output_example))\n",
    "        possible_code_series = possible_code_series[is_good_func_series]\n",
    "        \n",
    "    return possible_code_series"
   ]
  },
  {
   "cell_type": "code",
   "execution_count": 47,
   "metadata": {},
   "outputs": [
    {
     "name": "stdout",
     "output_type": "stream",
     "text": [
      "total number of functions: 8256\n",
      "\n",
      "x = x.split(\" \")\n",
      "x = [x[i] for i in (0, 1, 2)]\n",
      "x = [x[i] for i in (1, 2, 0)]\n",
      "x = \"mm\".join(x)\n"
     ]
    },
    {
     "data": {
      "text/plain": [
       "286    None\n",
       "Name: func_str, dtype: object"
      ]
     },
     "execution_count": 47,
     "metadata": {},
     "output_type": "execute_result"
    }
   ],
   "source": [
    "input_output_examples_list = [(\"aa bb cc\", \"bbmmccmmaa\"), (\"ll dd ff\", \"ddmmffmmll\")]\n",
    "possible_code_series = code(input_output_examples_list)\n",
    "possible_code_series.apply(print)"
   ]
  },
  {
   "cell_type": "code",
   "execution_count": null,
   "metadata": {
    "collapsed": true
   },
   "outputs": [],
   "source": []
  }
 ],
 "metadata": {
  "kernelspec": {
   "display_name": "Python 3",
   "language": "python",
   "name": "python3"
  },
  "language_info": {
   "codemirror_mode": {
    "name": "ipython",
    "version": 3
   },
   "file_extension": ".py",
   "mimetype": "text/x-python",
   "name": "python",
   "nbconvert_exporter": "python",
   "pygments_lexer": "ipython3",
   "version": "3.6.1"
  }
 },
 "nbformat": 4,
 "nbformat_minor": 2
}
